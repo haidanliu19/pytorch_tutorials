{
  "nbformat": 4,
  "nbformat_minor": 0,
  "metadata": {
    "colab": {
      "name": "INTRODUCTION TO PYTORCH_Tensors.ipynb",
      "provenance": [],
      "collapsed_sections": []
    },
    "kernelspec": {
      "name": "python3",
      "display_name": "Python 3"
    },
    "language_info": {
      "name": "python"
    },
    "accelerator": "GPU"
  },
  "cells": [
    {
      "cell_type": "markdown",
      "source": [
        "출처 : pytorch 튜트리얼"
      ],
      "metadata": {
        "id": "Kcrm0WtMOD2t"
      }
    },
    {
      "cell_type": "code",
      "source": [
        "import torch\n",
        "import math"
      ],
      "metadata": {
        "id": "v6_KC4Bq1fAD"
      },
      "execution_count": 1,
      "outputs": []
    },
    {
      "cell_type": "code",
      "source": [
        "x = torch.empty(3, 4)\n",
        "print(type(x))\n",
        "print(x)"
      ],
      "metadata": {
        "id": "EWONYssXbfk2",
        "colab": {
          "base_uri": "https://localhost:8080/"
        },
        "outputId": "83bb46aa-4dc3-4d90-fd29-4bca1d64c3de"
      },
      "execution_count": 2,
      "outputs": [
        {
          "output_type": "stream",
          "name": "stdout",
          "text": [
            "<class 'torch.Tensor'>\n",
            "tensor([[1.0637e-34, 0.0000e+00, 3.3631e-44, 0.0000e+00],\n",
            "        [       nan, 6.4460e-44, 1.1578e+27, 1.1362e+30],\n",
            "        [7.1547e+22, 4.5828e+30, 1.2121e+04, 7.1846e+22]])\n"
          ]
        }
      ]
    },
    {
      "cell_type": "code",
      "source": [
        "zeros = torch.zeros(2, 3)\n",
        "print(zeros)\n",
        "\n",
        "ones = torch.ones(2, 3)\n",
        "print(ones)\n",
        "\n",
        "torch.manual_seed(1729)\n",
        "random = torch.rand(2, 3)\n",
        "print(random)"
      ],
      "metadata": {
        "colab": {
          "base_uri": "https://localhost:8080/"
        },
        "id": "PJNOxEOpcA7N",
        "outputId": "30b2ad39-9815-47dc-fe5a-52d51b54ca2b"
      },
      "execution_count": 4,
      "outputs": [
        {
          "output_type": "stream",
          "name": "stdout",
          "text": [
            "tensor([[0., 0., 0.],\n",
            "        [0., 0., 0.]])\n",
            "tensor([[1., 1., 1.],\n",
            "        [1., 1., 1.]])\n",
            "tensor([[0.3126, 0.3791, 0.3087],\n",
            "        [0.0736, 0.4216, 0.0691]])\n"
          ]
        }
      ]
    },
    {
      "cell_type": "code",
      "source": [
        "torch.manual_seed(1729)\n",
        "random1 = torch.rand(2, 3)\n",
        "print(random1)\n",
        "\n",
        "random2 = torch.rand(2, 3)\n",
        "print(random2)\n",
        "\n",
        "torch.manual_seed(1729)\n",
        "random3 = torch.rand(2, 3)\n",
        "print(random3)\n",
        "\n",
        "random4 = torch.rand(2, 3)\n",
        "print(random4)"
      ],
      "metadata": {
        "colab": {
          "base_uri": "https://localhost:8080/"
        },
        "id": "9gYd8RyUdSAG",
        "outputId": "2c5cb72f-2b7b-47d7-843a-dca7e4a2f513"
      },
      "execution_count": 5,
      "outputs": [
        {
          "output_type": "stream",
          "name": "stdout",
          "text": [
            "tensor([[0.3126, 0.3791, 0.3087],\n",
            "        [0.0736, 0.4216, 0.0691]])\n",
            "tensor([[0.2332, 0.4047, 0.2162],\n",
            "        [0.9927, 0.4128, 0.5938]])\n",
            "tensor([[0.3126, 0.3791, 0.3087],\n",
            "        [0.0736, 0.4216, 0.0691]])\n",
            "tensor([[0.2332, 0.4047, 0.2162],\n",
            "        [0.9927, 0.4128, 0.5938]])\n"
          ]
        }
      ]
    },
    {
      "cell_type": "code",
      "source": [
        "x = torch.empty(2, 2, 3)\n",
        "print(x.shape)\n",
        "\n",
        "empty_like_x = torch.empty_like(x)\n",
        "print(empty_like_x.shape)\n",
        "print(empty_like_x)\n",
        "\n",
        "zeros_like_x = torch.zeros_like(x)\n",
        "print(zeros_like_x.shape)\n",
        "print(zeros_like_x)\n",
        "\n",
        "ones_like_x = torch.ones_like(x)\n",
        "print(ones_like_x.shape)\n",
        "print(ones_like_x)\n",
        "\n",
        "rand_like_x = torch.rand_like(x)\n",
        "print(rand_like_x.shape)\n",
        "print(rand_like_x)"
      ],
      "metadata": {
        "colab": {
          "base_uri": "https://localhost:8080/"
        },
        "id": "4BdMSh-pH-qm",
        "outputId": "fbe849e7-f1c1-4777-9021-7f6f9ecf5c9c"
      },
      "execution_count": 6,
      "outputs": [
        {
          "output_type": "stream",
          "name": "stdout",
          "text": [
            "torch.Size([2, 2, 3])\n",
            "torch.Size([2, 2, 3])\n",
            "tensor([[[1.0637e-34, 0.0000e+00, 3.3631e-44],\n",
            "         [0.0000e+00,        nan, 0.0000e+00]],\n",
            "\n",
            "        [[1.1578e+27, 1.1362e+30, 7.1547e+22],\n",
            "         [4.5828e+30, 1.2121e+04, 7.1846e+22]]])\n",
            "torch.Size([2, 2, 3])\n",
            "tensor([[[0., 0., 0.],\n",
            "         [0., 0., 0.]],\n",
            "\n",
            "        [[0., 0., 0.],\n",
            "         [0., 0., 0.]]])\n",
            "torch.Size([2, 2, 3])\n",
            "tensor([[[1., 1., 1.],\n",
            "         [1., 1., 1.]],\n",
            "\n",
            "        [[1., 1., 1.],\n",
            "         [1., 1., 1.]]])\n",
            "torch.Size([2, 2, 3])\n",
            "tensor([[[0.6128, 0.1519, 0.0453],\n",
            "         [0.5035, 0.9978, 0.3884]],\n",
            "\n",
            "        [[0.6929, 0.1703, 0.1384],\n",
            "         [0.4759, 0.7481, 0.0361]]])\n"
          ]
        }
      ]
    },
    {
      "cell_type": "code",
      "source": [
        "a = torch.ones((2, 3), dtype = torch.int16)\n",
        "print(a)\n",
        "\n",
        "b = torch.rand((2, 3), dtype = torch.float64) * 20.\n",
        "print(b)\n",
        "\n",
        "c = b.to(torch.int32)\n",
        "print(c)"
      ],
      "metadata": {
        "colab": {
          "base_uri": "https://localhost:8080/"
        },
        "id": "uoRcNE55JCEu",
        "outputId": "7abf77e1-3449-4102-f216-0666e47a850b"
      },
      "execution_count": 9,
      "outputs": [
        {
          "output_type": "stream",
          "name": "stdout",
          "text": [
            "tensor([[1, 1, 1],\n",
            "        [1, 1, 1]], dtype=torch.int16)\n",
            "tensor([[12.3902, 15.0541, 16.8179],\n",
            "        [17.7174, 14.2091, 18.9694]], dtype=torch.float64)\n",
            "tensor([[12, 15, 16],\n",
            "        [17, 14, 18]], dtype=torch.int32)\n"
          ]
        }
      ]
    },
    {
      "cell_type": "markdown",
      "source": [
        "Math & Logic with Pytorch Tensors"
      ],
      "metadata": {
        "id": "dpXPruunKgnm"
      }
    },
    {
      "cell_type": "code",
      "source": [
        "ones = torch.zeros(2, 2) + 1\n",
        "twos = torch.ones(2, 2) * 2\n",
        "threes = (torch.ones(2, 2) * 7 - 1) / 2\n",
        "fours =twos ** 2\n",
        "sqrt2s = twos ** 0.5\n",
        "\n",
        "print(ones)\n",
        "print(twos)\n",
        "print(threes)\n",
        "print(fours)\n",
        "print(sqrt2s)"
      ],
      "metadata": {
        "colab": {
          "base_uri": "https://localhost:8080/"
        },
        "id": "PBRSYLc4JO5u",
        "outputId": "20eed7f5-deef-4e6c-b605-91ac8763560f"
      },
      "execution_count": 10,
      "outputs": [
        {
          "output_type": "stream",
          "name": "stdout",
          "text": [
            "tensor([[1., 1.],\n",
            "        [1., 1.]])\n",
            "tensor([[2., 2.],\n",
            "        [2., 2.]])\n",
            "tensor([[3., 3.],\n",
            "        [3., 3.]])\n",
            "tensor([[4., 4.],\n",
            "        [4., 4.]])\n",
            "tensor([[1.4142, 1.4142],\n",
            "        [1.4142, 1.4142]])\n"
          ]
        }
      ]
    },
    {
      "cell_type": "code",
      "source": [
        "a = torch.rand(2, 3)\n",
        "b = torch.rand(3, 2)\n",
        "\n",
        "print(a * b)\n",
        "# 다른것은 못 한다. "
      ],
      "metadata": {
        "colab": {
          "base_uri": "https://localhost:8080/",
          "height": 211
        },
        "id": "bsaeCQFFK4st",
        "outputId": "b2da3ba3-d6ee-44e4-84fd-b381c45c31d7"
      },
      "execution_count": 11,
      "outputs": [
        {
          "output_type": "error",
          "ename": "RuntimeError",
          "evalue": "ignored",
          "traceback": [
            "\u001b[0;31m---------------------------------------------------------------------------\u001b[0m",
            "\u001b[0;31mRuntimeError\u001b[0m                              Traceback (most recent call last)",
            "\u001b[0;32m<ipython-input-11-fcc83145fe91>\u001b[0m in \u001b[0;36m<module>\u001b[0;34m()\u001b[0m\n\u001b[1;32m      2\u001b[0m \u001b[0mb\u001b[0m \u001b[0;34m=\u001b[0m \u001b[0mtorch\u001b[0m\u001b[0;34m.\u001b[0m\u001b[0mrand\u001b[0m\u001b[0;34m(\u001b[0m\u001b[0;36m3\u001b[0m\u001b[0;34m,\u001b[0m \u001b[0;36m2\u001b[0m\u001b[0;34m)\u001b[0m\u001b[0;34m\u001b[0m\u001b[0;34m\u001b[0m\u001b[0m\n\u001b[1;32m      3\u001b[0m \u001b[0;34m\u001b[0m\u001b[0m\n\u001b[0;32m----> 4\u001b[0;31m \u001b[0mprint\u001b[0m\u001b[0;34m(\u001b[0m\u001b[0ma\u001b[0m \u001b[0;34m*\u001b[0m \u001b[0mb\u001b[0m\u001b[0;34m)\u001b[0m\u001b[0;34m\u001b[0m\u001b[0;34m\u001b[0m\u001b[0m\n\u001b[0m",
            "\u001b[0;31mRuntimeError\u001b[0m: The size of tensor a (3) must match the size of tensor b (2) at non-singleton dimension 1"
          ]
        }
      ]
    },
    {
      "cell_type": "code",
      "source": [
        "rand = torch.rand(2, 4)\n",
        "doubled = rand * ( torch.ones(1, 4) * 2)\n",
        "print(rand)\n",
        "print(doubled)"
      ],
      "metadata": {
        "colab": {
          "base_uri": "https://localhost:8080/"
        },
        "id": "UJXKaxtnK4wO",
        "outputId": "3d16318b-cd0c-4119-8675-6a2a9cb00064"
      },
      "execution_count": 12,
      "outputs": [
        {
          "output_type": "stream",
          "name": "stdout",
          "text": [
            "tensor([[0.1332, 0.0023, 0.4945, 0.3857],\n",
            "        [0.9883, 0.4762, 0.7242, 0.0776]])\n",
            "tensor([[0.2663, 0.0045, 0.9890, 0.7715],\n",
            "        [1.9767, 0.9524, 1.4484, 0.1553]])\n"
          ]
        }
      ]
    },
    {
      "cell_type": "code",
      "source": [
        "# broadcast\n",
        "a = torch.ones(4, 3, 2)\n",
        "b = a * torch.rand( 3, 2)\n",
        "print(b)\n",
        "print(b.shape)\n",
        "\n",
        "c = a * torch.rand( 3, 1)\n",
        "print(c)\n",
        "print(c.shape)\n",
        "\n",
        "d = a * torch.rand( 1, 2)\n",
        "print(d)\n",
        "print(d.shape)"
      ],
      "metadata": {
        "colab": {
          "base_uri": "https://localhost:8080/"
        },
        "id": "UYmWkj0EK4zM",
        "outputId": "d9bc18c8-ee91-4f16-9449-7fa3b577d877"
      },
      "execution_count": 17,
      "outputs": [
        {
          "output_type": "stream",
          "name": "stdout",
          "text": [
            "tensor([[[0.4460, 0.9289],\n",
            "         [0.6293, 0.6264],\n",
            "         [0.4704, 0.6077]],\n",
            "\n",
            "        [[0.4460, 0.9289],\n",
            "         [0.6293, 0.6264],\n",
            "         [0.4704, 0.6077]],\n",
            "\n",
            "        [[0.4460, 0.9289],\n",
            "         [0.6293, 0.6264],\n",
            "         [0.4704, 0.6077]],\n",
            "\n",
            "        [[0.4460, 0.9289],\n",
            "         [0.6293, 0.6264],\n",
            "         [0.4704, 0.6077]]])\n",
            "torch.Size([4, 3, 2])\n",
            "tensor([[[0.4757, 0.4757],\n",
            "         [0.5874, 0.5874],\n",
            "         [0.4363, 0.4363]],\n",
            "\n",
            "        [[0.4757, 0.4757],\n",
            "         [0.5874, 0.5874],\n",
            "         [0.4363, 0.4363]],\n",
            "\n",
            "        [[0.4757, 0.4757],\n",
            "         [0.5874, 0.5874],\n",
            "         [0.4363, 0.4363]],\n",
            "\n",
            "        [[0.4757, 0.4757],\n",
            "         [0.5874, 0.5874],\n",
            "         [0.4363, 0.4363]]])\n",
            "torch.Size([4, 3, 2])\n",
            "tensor([[[0.6339, 0.3208],\n",
            "         [0.6339, 0.3208],\n",
            "         [0.6339, 0.3208]],\n",
            "\n",
            "        [[0.6339, 0.3208],\n",
            "         [0.6339, 0.3208],\n",
            "         [0.6339, 0.3208]],\n",
            "\n",
            "        [[0.6339, 0.3208],\n",
            "         [0.6339, 0.3208],\n",
            "         [0.6339, 0.3208]],\n",
            "\n",
            "        [[0.6339, 0.3208],\n",
            "         [0.6339, 0.3208],\n",
            "         [0.6339, 0.3208]]])\n",
            "torch.Size([4, 3, 2])\n"
          ]
        }
      ]
    },
    {
      "cell_type": "code",
      "source": [
        "a = torch.ones(4, 3, 2)\n",
        "b = a * torch.rand(4, 3)  # dimensions must match last-to-first\n",
        "c = a * torch.rand(   2, 3)\n",
        "d = a * torch.rand((0,))"
      ],
      "metadata": {
        "colab": {
          "base_uri": "https://localhost:8080/",
          "height": 229
        },
        "id": "lzuw5lEeMBje",
        "outputId": "957438d3-0213-4083-8d0c-533835bd45fa"
      },
      "execution_count": 19,
      "outputs": [
        {
          "output_type": "error",
          "ename": "RuntimeError",
          "evalue": "ignored",
          "traceback": [
            "\u001b[0;31m---------------------------------------------------------------------------\u001b[0m",
            "\u001b[0;31mRuntimeError\u001b[0m                              Traceback (most recent call last)",
            "\u001b[0;32m<ipython-input-19-1db120edb5e4>\u001b[0m in \u001b[0;36m<module>\u001b[0;34m()\u001b[0m\n\u001b[1;32m      1\u001b[0m \u001b[0ma\u001b[0m \u001b[0;34m=\u001b[0m \u001b[0mtorch\u001b[0m\u001b[0;34m.\u001b[0m\u001b[0mones\u001b[0m\u001b[0;34m(\u001b[0m\u001b[0;36m4\u001b[0m\u001b[0;34m,\u001b[0m \u001b[0;36m3\u001b[0m\u001b[0;34m,\u001b[0m \u001b[0;36m2\u001b[0m\u001b[0;34m)\u001b[0m\u001b[0;34m\u001b[0m\u001b[0;34m\u001b[0m\u001b[0m\n\u001b[0;32m----> 2\u001b[0;31m \u001b[0mb\u001b[0m \u001b[0;34m=\u001b[0m \u001b[0ma\u001b[0m \u001b[0;34m*\u001b[0m \u001b[0mtorch\u001b[0m\u001b[0;34m.\u001b[0m\u001b[0mrand\u001b[0m\u001b[0;34m(\u001b[0m\u001b[0;36m4\u001b[0m\u001b[0;34m,\u001b[0m \u001b[0;36m3\u001b[0m\u001b[0;34m)\u001b[0m  \u001b[0;31m# dimensions must match last-to-first\u001b[0m\u001b[0;34m\u001b[0m\u001b[0;34m\u001b[0m\u001b[0m\n\u001b[0m\u001b[1;32m      3\u001b[0m \u001b[0mc\u001b[0m \u001b[0;34m=\u001b[0m \u001b[0ma\u001b[0m \u001b[0;34m*\u001b[0m \u001b[0mtorch\u001b[0m\u001b[0;34m.\u001b[0m\u001b[0mrand\u001b[0m\u001b[0;34m(\u001b[0m   \u001b[0;36m2\u001b[0m\u001b[0;34m,\u001b[0m \u001b[0;36m3\u001b[0m\u001b[0;34m)\u001b[0m\u001b[0;34m\u001b[0m\u001b[0;34m\u001b[0m\u001b[0m\n\u001b[1;32m      4\u001b[0m \u001b[0md\u001b[0m \u001b[0;34m=\u001b[0m \u001b[0ma\u001b[0m \u001b[0;34m*\u001b[0m \u001b[0mtorch\u001b[0m\u001b[0;34m.\u001b[0m\u001b[0mrand\u001b[0m\u001b[0;34m(\u001b[0m\u001b[0;34m(\u001b[0m\u001b[0;36m0\u001b[0m\u001b[0;34m,\u001b[0m\u001b[0;34m)\u001b[0m\u001b[0;34m)\u001b[0m\u001b[0;34m\u001b[0m\u001b[0;34m\u001b[0m\u001b[0m\n",
            "\u001b[0;31mRuntimeError\u001b[0m: The size of tensor a (2) must match the size of tensor b (3) at non-singleton dimension 2"
          ]
        }
      ]
    },
    {
      "cell_type": "markdown",
      "source": [
        "more math"
      ],
      "metadata": {
        "id": "p4Ds_Jg8O1Vs"
      }
    },
    {
      "cell_type": "code",
      "source": [
        "a = torch.rand(2, 4) * 2 - 1\n",
        "print(\"common fuctions:\")\n",
        "print(torch.abs(a))\n",
        "print(torch.ceil(a))\n",
        "print(torch.floor(a))\n",
        "print(torch.clamp(a, -0.5, 0.5))"
      ],
      "metadata": {
        "colab": {
          "base_uri": "https://localhost:8080/"
        },
        "id": "fo6oKogdOmBl",
        "outputId": "816aa779-1926-40f5-f272-e3b38925a1ea"
      },
      "execution_count": 20,
      "outputs": [
        {
          "output_type": "stream",
          "name": "stdout",
          "text": [
            "common fuctions:\n",
            "tensor([[0.2733, 0.5398, 0.8303, 0.0112],\n",
            "        [0.4681, 0.0503, 0.6737, 0.4782]])\n",
            "tensor([[1., -0., 1., 1.],\n",
            "        [-0., 1., -0., 1.]])\n",
            "tensor([[ 0., -1.,  0.,  0.],\n",
            "        [-1.,  0., -1.,  0.]])\n",
            "tensor([[ 0.2733, -0.5000,  0.5000,  0.0112],\n",
            "        [-0.4681,  0.0503, -0.5000,  0.4782]])\n"
          ]
        }
      ]
    },
    {
      "cell_type": "code",
      "source": [
        "angles = torch.tensor([0, math.pi / 4, math.pi / 2, 3 * math.pi / 4  ])\n",
        "sines = torch.sin(angles)\n",
        "inverses = torch.asin(sines)\n",
        "print('\\nSine and arcsine:')\n",
        "print(angles)\n",
        "print(sines)\n",
        "print(inverses)"
      ],
      "metadata": {
        "colab": {
          "base_uri": "https://localhost:8080/"
        },
        "id": "GnFfTf2GPBaM",
        "outputId": "8aab4ab5-201b-4be7-942e-91921ed9c78f"
      },
      "execution_count": 23,
      "outputs": [
        {
          "output_type": "stream",
          "name": "stdout",
          "text": [
            "\n",
            "Sine and arcsine:\n",
            "tensor([0.0000, 0.7854, 1.5708, 2.3562])\n",
            "tensor([0.0000, 0.7071, 1.0000, 0.7071])\n",
            "tensor([0.0000, 0.7854, 1.5708, 0.7854])\n"
          ]
        }
      ]
    },
    {
      "cell_type": "code",
      "source": [
        "# bitwise operations\n",
        "print('\\nBitwise XOR:')\n",
        "b = torch.tensor([1, 5, 11])\n",
        "c = torch.tensor([2, 7, 10])\n",
        "print(torch.bitwise_xor(b, c))"
      ],
      "metadata": {
        "colab": {
          "base_uri": "https://localhost:8080/"
        },
        "id": "KQNN47DEPYCl",
        "outputId": "7d288b03-9ed1-42e4-da0c-7d7090fac41e"
      },
      "execution_count": 24,
      "outputs": [
        {
          "output_type": "stream",
          "name": "stdout",
          "text": [
            "\n",
            "Bitwise XOR:\n",
            "tensor([3, 2, 1])\n"
          ]
        }
      ]
    },
    {
      "cell_type": "code",
      "source": [
        "# comparisons:\n",
        "print('\\nBroadcasted, element-wise equality comparison:')\n",
        "d = torch.tensor([[1., 2.], [3., 4.]])\n",
        "e = torch.ones(1, 2)  \n",
        "print(torch.eq(d, e))"
      ],
      "metadata": {
        "colab": {
          "base_uri": "https://localhost:8080/"
        },
        "id": "LUqAiz1xPzzU",
        "outputId": "e883092a-1606-4b4c-fe49-e9d07295e817"
      },
      "execution_count": 25,
      "outputs": [
        {
          "output_type": "stream",
          "name": "stdout",
          "text": [
            "\n",
            "Broadcasted, element-wise equality comparison:\n",
            "tensor([[ True, False],\n",
            "        [False, False]])\n"
          ]
        }
      ]
    },
    {
      "cell_type": "code",
      "source": [
        "# reductions:\n",
        "print('\\nReduction ops:')\n",
        "print(torch.max(d))        \n",
        "print(torch.max(d).item()) \n",
        "print(torch.mean(d))       \n",
        "print(torch.std(d))        \n",
        "print(torch.prod(d))       \n",
        "print(torch.unique(torch.tensor([1, 2, 1, 2, 1, 2])))"
      ],
      "metadata": {
        "colab": {
          "base_uri": "https://localhost:8080/"
        },
        "id": "uxA8D_3DP5fA",
        "outputId": "21c1fa25-8495-430c-f616-8a52a6b940fa"
      },
      "execution_count": 26,
      "outputs": [
        {
          "output_type": "stream",
          "name": "stdout",
          "text": [
            "\n",
            "Reduction ops:\n",
            "tensor(4.)\n",
            "4.0\n",
            "tensor(2.5000)\n",
            "tensor(1.2910)\n",
            "tensor(24.)\n",
            "tensor([1, 2])\n"
          ]
        }
      ]
    },
    {
      "cell_type": "code",
      "source": [
        "# vector and linear algebra operations\n",
        "v1 = torch.tensor([1., 0., 0.])         \n",
        "v2 = torch.tensor([0., 1., 0.])         \n",
        "m1 = torch.rand(2, 2)                   \n",
        "m2 = torch.tensor([[3., 0.], [0., 3.]]) \n",
        "\n",
        "print('\\nVectors & Matrices:')\n",
        "print(torch.cross(v2, v1))\n",
        "print(m1)\n",
        "m3 = torch.matmul(m1, m2)\n",
        "print(m3)                 \n",
        "print(torch.svd(m3))      "
      ],
      "metadata": {
        "colab": {
          "base_uri": "https://localhost:8080/"
        },
        "id": "yzrptTNeP8Se",
        "outputId": "67275b2e-bc56-4466-c98f-a6bd8ea313c8"
      },
      "execution_count": 29,
      "outputs": [
        {
          "output_type": "stream",
          "name": "stdout",
          "text": [
            "\n",
            "Vectors & Matrices:\n",
            "tensor([ 0.,  0., -1.])\n",
            "tensor([[0.9106, 0.8941],\n",
            "        [0.7992, 0.0554]])\n",
            "tensor([[2.7317, 2.6824],\n",
            "        [2.3977, 0.1662]])\n",
            "torch.return_types.svd(\n",
            "U=tensor([[-0.8763, -0.4817],\n",
            "        [-0.4817,  0.8763]]),\n",
            "S=tensor([4.3015, 1.3897]),\n",
            "V=tensor([[-0.8250,  0.5651],\n",
            "        [-0.5651, -0.8250]]))\n"
          ]
        }
      ]
    },
    {
      "cell_type": "code",
      "source": [
        "a = torch.tensor([0, math.pi / 4, math.pi / 2, 3 * math.pi / 4  ])\n",
        "print('a: ')\n",
        "print(a)\n",
        "print(torch.sin(a))\n",
        "print(a)"
      ],
      "metadata": {
        "colab": {
          "base_uri": "https://localhost:8080/"
        },
        "id": "hquFtgXYPSSt",
        "outputId": "8b333a48-a82f-463a-e691-e42003143d02"
      },
      "execution_count": 31,
      "outputs": [
        {
          "output_type": "stream",
          "name": "stdout",
          "text": [
            "a: \n",
            "tensor([0.0000, 0.7854, 1.5708, 2.3562])\n",
            "tensor([0.0000, 0.7071, 1.0000, 0.7071])\n",
            "tensor([0.0000, 0.7854, 1.5708, 2.3562])\n"
          ]
        }
      ]
    },
    {
      "cell_type": "code",
      "source": [
        "b = torch.tensor([0, math.pi / 4, math.pi / 2, 3 * math.pi / 4  ])\n",
        "print('\\nb: ')\n",
        "print(b)\n",
        "print(torch.sin_(b))\n",
        "print(b)"
      ],
      "metadata": {
        "colab": {
          "base_uri": "https://localhost:8080/"
        },
        "id": "lf4bkdDNPSVr",
        "outputId": "631d020f-faad-43ab-a291-38972e2266ef"
      },
      "execution_count": 32,
      "outputs": [
        {
          "output_type": "stream",
          "name": "stdout",
          "text": [
            "\n",
            "b: \n",
            "tensor([0.0000, 0.7854, 1.5708, 2.3562])\n",
            "tensor([0.0000, 0.7071, 1.0000, 0.7071])\n",
            "tensor([0.0000, 0.7071, 1.0000, 0.7071])\n"
          ]
        }
      ]
    },
    {
      "cell_type": "code",
      "source": [
        "a = torch.ones(2, 2)\n",
        "b = torch.rand(2, 2)\n",
        "\n",
        "print('Before: ')\n",
        "print(a)\n",
        "print(b)\n",
        "print('\\nAfter_adding:')\n",
        "print(a.add_(b))\n",
        "print(a)\n",
        "print(b)\n",
        "print('\\nAfter_multiplying:')\n",
        "print(b.mul_(b))\n",
        "print(b)"
      ],
      "metadata": {
        "colab": {
          "base_uri": "https://localhost:8080/"
        },
        "id": "IwvrSrscQ1fV",
        "outputId": "a66e37e6-0718-42f2-d2cb-ca5736691927"
      },
      "execution_count": 34,
      "outputs": [
        {
          "output_type": "stream",
          "name": "stdout",
          "text": [
            "Before: \n",
            "tensor([[1., 1.],\n",
            "        [1., 1.]])\n",
            "tensor([[0.2174, 0.2038],\n",
            "        [0.2881, 0.2677]])\n",
            "\n",
            "After_adding:\n",
            "tensor([[1.2174, 1.2038],\n",
            "        [1.2881, 1.2677]])\n",
            "tensor([[1.2174, 1.2038],\n",
            "        [1.2881, 1.2677]])\n",
            "tensor([[0.2174, 0.2038],\n",
            "        [0.2881, 0.2677]])\n",
            "\n",
            "After_multiplying:\n",
            "tensor([[0.0473, 0.0415],\n",
            "        [0.0830, 0.0717]])\n",
            "tensor([[0.0473, 0.0415],\n",
            "        [0.0830, 0.0717]])\n"
          ]
        }
      ]
    },
    {
      "cell_type": "code",
      "source": [
        "a = torch.rand(2, 2)\n",
        "b = torch.rand(2, 2)\n",
        "c = torch.zeros(2, 2)\n",
        "old_id = id(c)\n",
        "\n",
        "print(c)\n",
        "d = torch.matmul(a, b, out = c)\n",
        "print(c)\n",
        "\n",
        "assert c is d\n",
        "assert id(c), old_id\n"
      ],
      "metadata": {
        "colab": {
          "base_uri": "https://localhost:8080/"
        },
        "id": "ImaWG_vORUXV",
        "outputId": "fa5434a4-7eeb-49e7-c8d4-ec2eacbdbfa2"
      },
      "execution_count": 36,
      "outputs": [
        {
          "output_type": "stream",
          "name": "stdout",
          "text": [
            "tensor([[0., 0.],\n",
            "        [0., 0.]])\n",
            "tensor([[0.3925, 0.4236],\n",
            "        [0.8706, 1.0576]])\n"
          ]
        }
      ]
    },
    {
      "cell_type": "code",
      "source": [
        "torch.rand(2, 2, out = c)\n",
        "print(c)\n",
        "assert id(c), old_id"
      ],
      "metadata": {
        "colab": {
          "base_uri": "https://localhost:8080/"
        },
        "id": "jsRK9e8UXmO6",
        "outputId": "4c62476d-4e4d-4763-ae6a-7fd8ad00af13"
      },
      "execution_count": 37,
      "outputs": [
        {
          "output_type": "stream",
          "name": "stdout",
          "text": [
            "tensor([[0.1619, 0.0425],\n",
            "        [0.0313, 0.5074]])\n"
          ]
        }
      ]
    },
    {
      "cell_type": "code",
      "source": [
        "a = torch.ones(2, 2)\n",
        "b = a\n",
        "\n",
        "a[0][1] = 561\n",
        "print(b)"
      ],
      "metadata": {
        "colab": {
          "base_uri": "https://localhost:8080/"
        },
        "id": "qF_g-QRFXwfC",
        "outputId": "171b1410-649c-44b8-d172-d12a902a8c6e"
      },
      "execution_count": 39,
      "outputs": [
        {
          "output_type": "stream",
          "name": "stdout",
          "text": [
            "tensor([[  1., 561.],\n",
            "        [  1.,   1.]])\n"
          ]
        }
      ]
    },
    {
      "cell_type": "code",
      "source": [
        "a = torch.ones(2, 2)\n",
        "b = a.clone()\n",
        "\n",
        "assert b is not a\n",
        "print(torch.eq(a, b))\n",
        "\n",
        "a[0][1] = 561\n",
        "print(b)"
      ],
      "metadata": {
        "colab": {
          "base_uri": "https://localhost:8080/"
        },
        "id": "UMGSYlLWYf4_",
        "outputId": "ef43f85f-47df-4a94-8830-42c455cb5c9b"
      },
      "execution_count": 41,
      "outputs": [
        {
          "output_type": "stream",
          "name": "stdout",
          "text": [
            "tensor([[True, True],\n",
            "        [True, True]])\n",
            "tensor([[1., 1.],\n",
            "        [1., 1.]])\n"
          ]
        }
      ]
    },
    {
      "cell_type": "code",
      "source": [
        "a = torch.rand(2, 2, requires_grad = True)\n",
        "print(a)\n",
        "\n",
        "b = a.clone()\n",
        "print(b)\n",
        "\n",
        "c = a.detach().clone()\n",
        "print(c)\n",
        "\n",
        "print(a)"
      ],
      "metadata": {
        "colab": {
          "base_uri": "https://localhost:8080/"
        },
        "id": "HaqXRJSnY3Qp",
        "outputId": "95e9f381-283c-40fa-e344-9481480d2506"
      },
      "execution_count": 43,
      "outputs": [
        {
          "output_type": "stream",
          "name": "stdout",
          "text": [
            "tensor([[0.8454, 0.1194],\n",
            "        [0.7245, 0.6522]], requires_grad=True)\n",
            "tensor([[0.8454, 0.1194],\n",
            "        [0.7245, 0.6522]], grad_fn=<CloneBackward0>)\n",
            "tensor([[0.8454, 0.1194],\n",
            "        [0.7245, 0.6522]])\n",
            "tensor([[0.8454, 0.1194],\n",
            "        [0.7245, 0.6522]], requires_grad=True)\n"
          ]
        }
      ]
    },
    {
      "cell_type": "markdown",
      "source": [
        "Moving to GPU"
      ],
      "metadata": {
        "id": "4dnpMkiqZ6hp"
      }
    },
    {
      "cell_type": "code",
      "source": [
        "if torch.cuda.is_available():\n",
        "    print(\"we have a GPU\")\n",
        "else:\n",
        "    print('Sorry, CPU only')"
      ],
      "metadata": {
        "colab": {
          "base_uri": "https://localhost:8080/"
        },
        "id": "3fZNeFKfYp-2",
        "outputId": "67b43f19-6f9e-4602-dae4-cb95f2c77288"
      },
      "execution_count": 45,
      "outputs": [
        {
          "output_type": "stream",
          "name": "stdout",
          "text": [
            "we have a GPU\n"
          ]
        }
      ]
    },
    {
      "cell_type": "code",
      "source": [
        "if torch.cuda.is_available():\n",
        "    gpu_rand = torch.rand(2, 2, device = 'cuda')\n",
        "    print(gpu_rand)\n",
        "else:\n",
        "    print('Sorry, CPU only')"
      ],
      "metadata": {
        "colab": {
          "base_uri": "https://localhost:8080/"
        },
        "id": "deEePPMjaDJX",
        "outputId": "f204df20-6280-4a2b-f7c2-757e17b089e3"
      },
      "execution_count": 46,
      "outputs": [
        {
          "output_type": "stream",
          "name": "stdout",
          "text": [
            "tensor([[0.3344, 0.2640],\n",
            "        [0.2119, 0.0582]], device='cuda:0')\n"
          ]
        }
      ]
    },
    {
      "cell_type": "code",
      "source": [
        "if torch.cuda.is_available():\n",
        "    my_device = torch.device('cuda')\n",
        "    print(my_device)\n",
        "else:\n",
        "    my_device = torch.device('cpu') \n",
        "print('Device : {}'.format(my_device))\n",
        "\n",
        "x = torch.rand(2, 2, device = my_device)\n",
        "print(x)"
      ],
      "metadata": {
        "colab": {
          "base_uri": "https://localhost:8080/"
        },
        "id": "brV-U05YaLOZ",
        "outputId": "c754fbb3-5a01-4530-cd4d-b5749b0f5e45"
      },
      "execution_count": 48,
      "outputs": [
        {
          "output_type": "stream",
          "name": "stdout",
          "text": [
            "cuda\n",
            "Device : cuda\n",
            "tensor([[0.0024, 0.6778],\n",
            "        [0.2441, 0.6812]], device='cuda:0')\n"
          ]
        }
      ]
    },
    {
      "cell_type": "code",
      "source": [
        "y = torch.rand(2, 2)\n",
        "y = y.to(my_device)"
      ],
      "metadata": {
        "id": "JO9ld0_payVJ"
      },
      "execution_count": 50,
      "outputs": []
    },
    {
      "cell_type": "markdown",
      "source": [
        "Manipulating Tensor shapes"
      ],
      "metadata": {
        "id": "SSMkiLMlbT64"
      }
    },
    {
      "cell_type": "code",
      "source": [
        "a = torch.rand(3, 226, 226)\n",
        "b = a.unsqueeze(0)\n",
        "\n",
        "print(a.shape)\n",
        "print(b.shape)"
      ],
      "metadata": {
        "colab": {
          "base_uri": "https://localhost:8080/"
        },
        "id": "XwH17lZqa5Sx",
        "outputId": "2be7ff86-7e28-407f-9a8d-6c16b60bd917"
      },
      "execution_count": 51,
      "outputs": [
        {
          "output_type": "stream",
          "name": "stdout",
          "text": [
            "torch.Size([3, 226, 226])\n",
            "torch.Size([1, 3, 226, 226])\n"
          ]
        }
      ]
    },
    {
      "cell_type": "code",
      "source": [
        "c = torch.rand(1, 1, 1, 1, 1)\n",
        "print(c)"
      ],
      "metadata": {
        "colab": {
          "base_uri": "https://localhost:8080/"
        },
        "id": "rjumkktQbcV4",
        "outputId": "e99286bb-13a4-43bb-8e65-4b4adbd5b69b"
      },
      "execution_count": 52,
      "outputs": [
        {
          "output_type": "stream",
          "name": "stdout",
          "text": [
            "tensor([[[[[0.7705]]]]])\n"
          ]
        }
      ]
    },
    {
      "cell_type": "code",
      "source": [
        "a = torch.rand(1, 20)\n",
        "print(a.shape)\n",
        "print(a)\n",
        "\n",
        "b = a.squeeze(0)\n",
        "print(b.shape)\n",
        "print(b)\n",
        "\n",
        "c = torch.rand(2, 2)\n",
        "print(b)\n",
        "\n",
        "c = torch.rand(2, 2)\n",
        "print(c.shape)\n",
        "\n",
        "d = c.squeeze(0)\n",
        "print(d.shape)"
      ],
      "metadata": {
        "colab": {
          "base_uri": "https://localhost:8080/"
        },
        "id": "ORfxgHc5cY1z",
        "outputId": "10fd4ed1-791f-4f3c-b5d6-fb4fd2e30351"
      },
      "execution_count": 53,
      "outputs": [
        {
          "output_type": "stream",
          "name": "stdout",
          "text": [
            "torch.Size([1, 20])\n",
            "tensor([[0.0227, 0.2371, 0.5902, 0.5563, 0.1966, 0.2077, 0.8869, 0.7977, 0.4532,\n",
            "         0.1746, 0.2414, 0.2355, 0.9062, 0.2904, 0.2634, 0.6897, 0.3774, 0.0906,\n",
            "         0.3839, 0.4696]])\n",
            "torch.Size([20])\n",
            "tensor([0.0227, 0.2371, 0.5902, 0.5563, 0.1966, 0.2077, 0.8869, 0.7977, 0.4532,\n",
            "        0.1746, 0.2414, 0.2355, 0.9062, 0.2904, 0.2634, 0.6897, 0.3774, 0.0906,\n",
            "        0.3839, 0.4696])\n",
            "tensor([0.0227, 0.2371, 0.5902, 0.5563, 0.1966, 0.2077, 0.8869, 0.7977, 0.4532,\n",
            "        0.1746, 0.2414, 0.2355, 0.9062, 0.2904, 0.2634, 0.6897, 0.3774, 0.0906,\n",
            "        0.3839, 0.4696])\n",
            "torch.Size([2, 2])\n",
            "torch.Size([2, 2])\n"
          ]
        }
      ]
    },
    {
      "cell_type": "code",
      "source": [
        "a = torch.ones(4, 3, 2)\n",
        "b = torch.rand(   3)\n",
        "c = b.unsqueeze(1)\n",
        "print(c.shape)\n",
        "print(a * c)"
      ],
      "metadata": {
        "colab": {
          "base_uri": "https://localhost:8080/"
        },
        "id": "fgJN-2f7eLov",
        "outputId": "495a50f7-dd7b-4f57-9d93-df5312b67fda"
      },
      "execution_count": 54,
      "outputs": [
        {
          "output_type": "stream",
          "name": "stdout",
          "text": [
            "torch.Size([3, 1])\n",
            "tensor([[[0.3702, 0.3702],\n",
            "         [0.2488, 0.2488],\n",
            "         [0.9021, 0.9021]],\n",
            "\n",
            "        [[0.3702, 0.3702],\n",
            "         [0.2488, 0.2488],\n",
            "         [0.9021, 0.9021]],\n",
            "\n",
            "        [[0.3702, 0.3702],\n",
            "         [0.2488, 0.2488],\n",
            "         [0.9021, 0.9021]],\n",
            "\n",
            "        [[0.3702, 0.3702],\n",
            "         [0.2488, 0.2488],\n",
            "         [0.9021, 0.9021]]])\n"
          ]
        }
      ]
    },
    {
      "cell_type": "code",
      "source": [
        "batch_me = torch.rand(3, 226, 226)\n",
        "print(batch_me.shape)\n",
        "batch_me.unsqueeze_(0)\n",
        "print(batch_me.shape)"
      ],
      "metadata": {
        "colab": {
          "base_uri": "https://localhost:8080/"
        },
        "id": "SSzj2v8seLY6",
        "outputId": "f2e147b8-a398-48b5-9914-96a0024c6db1"
      },
      "execution_count": 55,
      "outputs": [
        {
          "output_type": "stream",
          "name": "stdout",
          "text": [
            "torch.Size([3, 226, 226])\n",
            "torch.Size([1, 3, 226, 226])\n"
          ]
        }
      ]
    },
    {
      "cell_type": "code",
      "source": [
        "output3d = torch.rand(6, 20, 20)\n",
        "print(output3d.shape)\n",
        "\n",
        "input1d = output3d.reshape( 6 * 20 * 20)\n",
        "print(input1d.shape)\n",
        "\n",
        "print(torch.reshape(output3d, (6 * 20 * 20, )).shape)"
      ],
      "metadata": {
        "colab": {
          "base_uri": "https://localhost:8080/"
        },
        "id": "YdYXI2vqd38a",
        "outputId": "3d231998-ae04-465d-8558-5c4331dcf8d1"
      },
      "execution_count": 58,
      "outputs": [
        {
          "output_type": "stream",
          "name": "stdout",
          "text": [
            "torch.Size([2400])\n"
          ]
        }
      ]
    },
    {
      "cell_type": "code",
      "source": [
        "import numpy as np\n",
        "\n",
        "numpy_array = np.ones((2, 3))\n",
        "print(numpy_array)\n",
        "\n",
        "pytorch_tensor = torch.from_numpy(numpy_array)\n",
        "print(pytorch_tensor)"
      ],
      "metadata": {
        "colab": {
          "base_uri": "https://localhost:8080/"
        },
        "id": "pYNYEYoMfDTM",
        "outputId": "ccd186c0-97ee-43f2-97b3-e29249bd8e0a"
      },
      "execution_count": 59,
      "outputs": [
        {
          "output_type": "stream",
          "name": "stdout",
          "text": [
            "[[1. 1. 1.]\n",
            " [1. 1. 1.]]\n",
            "tensor([[1., 1., 1.],\n",
            "        [1., 1., 1.]], dtype=torch.float64)\n"
          ]
        }
      ]
    },
    {
      "cell_type": "code",
      "source": [
        "pytorch_rand = torch.rand([2, 3])\n",
        "print(pytorch_rand)\n",
        "\n",
        "numpy_rand = pytorch_rand.numpy()\n",
        "print(numpy_rand)"
      ],
      "metadata": {
        "colab": {
          "base_uri": "https://localhost:8080/"
        },
        "id": "mvmOyYfggytk",
        "outputId": "c1139e2b-145c-4123-f853-91778d64ba69"
      },
      "execution_count": 60,
      "outputs": [
        {
          "output_type": "stream",
          "name": "stdout",
          "text": [
            "tensor([[0.7201, 0.0231, 0.4332],\n",
            "        [0.5725, 0.1018, 0.1840]])\n",
            "[[0.7201188  0.02313733 0.43317455]\n",
            " [0.5724983  0.10176712 0.18398839]]\n"
          ]
        }
      ]
    },
    {
      "cell_type": "code",
      "source": [
        "numpy_array[1, 1] = 23\n",
        "print(pytorch_tensor)\n",
        "\n",
        "pytorch_rand[1][1] = 17\n",
        "print(numpy_array)"
      ],
      "metadata": {
        "colab": {
          "base_uri": "https://localhost:8080/"
        },
        "id": "sBAuGKYZg7M1",
        "outputId": "1a81c22b-5162-4155-9f0a-5bdd36bab408"
      },
      "execution_count": 62,
      "outputs": [
        {
          "output_type": "stream",
          "name": "stdout",
          "text": [
            "tensor([[ 1.,  1.,  1.],\n",
            "        [ 1., 23.,  1.]], dtype=torch.float64)\n",
            "[[ 1.  1.  1.]\n",
            " [ 1. 23.  1.]]\n"
          ]
        }
      ]
    },
    {
      "cell_type": "code",
      "source": [
        ""
      ],
      "metadata": {
        "id": "6QsH3B_7hD4L"
      },
      "execution_count": null,
      "outputs": []
    }
  ]
}
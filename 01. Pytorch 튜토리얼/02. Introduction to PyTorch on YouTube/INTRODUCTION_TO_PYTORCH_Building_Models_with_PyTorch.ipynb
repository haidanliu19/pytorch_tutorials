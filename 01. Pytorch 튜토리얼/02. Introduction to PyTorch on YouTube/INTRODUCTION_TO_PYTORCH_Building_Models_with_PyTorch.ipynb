{
  "nbformat": 4,
  "nbformat_minor": 0,
  "metadata": {
    "colab": {
      "name": "INTRODUCTION TO PYTORCH_Building Models with PyTorch.ipynb",
      "provenance": [],
      "collapsed_sections": []
    },
    "kernelspec": {
      "name": "python3",
      "display_name": "Python 3"
    },
    "language_info": {
      "name": "python"
    },
    "accelerator": "GPU"
  },
  "cells": [
    {
      "cell_type": "markdown",
      "source": [
        "출처 : pytorch 튜트리얼"
      ],
      "metadata": {
        "id": "Kcrm0WtMOD2t"
      }
    },
    {
      "cell_type": "code",
      "source": [
        "import torch\n",
        "\n",
        "class TinyModel(torch.nn.Module):\n",
        "    def __init__(self):\n",
        "        super(TinyModel, self).__init__()\n",
        "\n",
        "        self.linear1 = torch.nn.Linear(100, 200)\n",
        "        self.activation = torch.nn.ReLU()\n",
        "        self.linear2 = torch.nn.Linear(200, 10)\n",
        "        self.softmax = torch.nn.Softmax()\n",
        "\n",
        "    def forward(self, x):\n",
        "        x = self.linear1(x)\n",
        "        x = self.activation(x)\n",
        "        x = self.linear2(x)\n",
        "        x = self.softmax(x)\n",
        "        return x\n",
        "\n",
        "tinymodel = TinyModel()\n",
        "\n",
        "print(\"The model:\")\n",
        "print(tinymodel)\n",
        "\n",
        "print('\\n\\nJust one layer:')\n",
        "print(tinymodel.linear2)\n",
        "\n",
        "print('\\n\\nModel params:')\n",
        "for param in tinymodel.parameters():\n",
        "    print(param)\n",
        "\n",
        "print('\\n\\nLayer params:')\n",
        "for param in tinymodel.linear2.parameters():\n",
        "    print(param)"
      ],
      "metadata": {
        "colab": {
          "base_uri": "https://localhost:8080/"
        },
        "id": "zZUYlEXaYcmh",
        "outputId": "5cad6f37-e1b2-4130-f54f-2a18b0d03fff"
      },
      "execution_count": 1,
      "outputs": [
        {
          "output_type": "stream",
          "name": "stdout",
          "text": [
            "The model:\n",
            "TinyModel(\n",
            "  (linear1): Linear(in_features=100, out_features=200, bias=True)\n",
            "  (activation): ReLU()\n",
            "  (linear2): Linear(in_features=200, out_features=10, bias=True)\n",
            "  (softmax): Softmax(dim=None)\n",
            ")\n",
            "\n",
            "\n",
            "Just one layer:\n",
            "Linear(in_features=200, out_features=10, bias=True)\n",
            "\n",
            "\n",
            "Model params:\n",
            "Parameter containing:\n",
            "tensor([[ 0.0830, -0.0728, -0.0939,  ..., -0.0076,  0.0230,  0.0279],\n",
            "        [-0.0705, -0.0125,  0.0991,  ...,  0.0567, -0.0064, -0.0055],\n",
            "        [-0.0758, -0.0297,  0.0660,  ...,  0.0447, -0.0456,  0.0831],\n",
            "        ...,\n",
            "        [ 0.0452, -0.0111,  0.0073,  ...,  0.0098,  0.0136, -0.0449],\n",
            "        [ 0.0911, -0.0985,  0.0270,  ..., -0.0502,  0.0631, -0.0836],\n",
            "        [-0.0698, -0.0385, -0.0911,  ..., -0.0180,  0.0158,  0.0663]],\n",
            "       requires_grad=True)\n",
            "Parameter containing:\n",
            "tensor([-0.0140, -0.0428, -0.0100,  0.0430, -0.0629,  0.0035, -0.0201, -0.0278,\n",
            "        -0.0119,  0.0933, -0.0860,  0.0240,  0.0504,  0.0514,  0.0163, -0.0086,\n",
            "         0.0207, -0.0839,  0.0399,  0.0254,  0.0016, -0.0813,  0.0346, -0.0187,\n",
            "         0.0203,  0.0283,  0.0018, -0.0353, -0.0489, -0.0971,  0.0630, -0.0034,\n",
            "        -0.0853,  0.0769,  0.0030, -0.0911, -0.0401,  0.0149, -0.0702,  0.0700,\n",
            "        -0.0528, -0.0826, -0.0219, -0.0322,  0.0421, -0.0067, -0.0740,  0.0714,\n",
            "        -0.0421,  0.0209, -0.0215,  0.0951, -0.0542, -0.0369, -0.0985, -0.0468,\n",
            "         0.0316,  0.0546, -0.0682,  0.0140, -0.0691, -0.0479, -0.0126, -0.0717,\n",
            "         0.0687,  0.0700, -0.0632,  0.0176,  0.0474, -0.0300, -0.0712,  0.0012,\n",
            "        -0.0824, -0.0321, -0.0621,  0.0109,  0.0761, -0.0796,  0.0974,  0.0289,\n",
            "         0.0744,  0.0610,  0.0807, -0.0708,  0.0725,  0.0909, -0.0458,  0.0358,\n",
            "        -0.0131,  0.0592,  0.0284,  0.0981, -0.0826,  0.0559, -0.0667, -0.0012,\n",
            "        -0.0194, -0.0698,  0.0336, -0.0203,  0.0039,  0.0931, -0.0004,  0.0922,\n",
            "         0.0132,  0.0016,  0.0537, -0.0859,  0.0897, -0.0545, -0.0344, -0.0672,\n",
            "        -0.0539, -0.0441, -0.0032,  0.0973, -0.0305,  0.0402,  0.0661, -0.0598,\n",
            "        -0.0432,  0.0314,  0.0803, -0.0966,  0.0945, -0.0076, -0.0601,  0.0389,\n",
            "        -0.0471, -0.0726,  0.0519, -0.0938, -0.0953, -0.0169,  0.0147, -0.0745,\n",
            "        -0.0101, -0.0981,  0.0093, -0.0426,  0.0675, -0.0729, -0.0637,  0.0866,\n",
            "        -0.0971,  0.0140,  0.0516,  0.0735,  0.0775,  0.0515, -0.0196,  0.0754,\n",
            "         0.0766,  0.0028,  0.0545,  0.0140,  0.0007,  0.0941, -0.0819,  0.0870,\n",
            "        -0.0368,  0.0260, -0.0747,  0.0994, -0.0396,  0.0693,  0.0623, -0.0336,\n",
            "        -0.0124,  0.0563,  0.0014,  0.0103, -0.0374,  0.0596, -0.0295,  0.0770,\n",
            "         0.0077, -0.0952,  0.0569, -0.0780, -0.0652, -0.0334, -0.0317,  0.0361,\n",
            "        -0.0925,  0.0880, -0.0536,  0.0341, -0.0442, -0.0476,  0.0311,  0.0898,\n",
            "         0.0048, -0.0603, -0.0287, -0.0359,  0.0850,  0.0026, -0.0848, -0.0202],\n",
            "       requires_grad=True)\n",
            "Parameter containing:\n",
            "tensor([[-0.0019, -0.0659,  0.0265,  ...,  0.0346, -0.0444, -0.0309],\n",
            "        [-0.0355,  0.0365,  0.0298,  ...,  0.0609, -0.0315,  0.0125],\n",
            "        [-0.0284, -0.0426,  0.0607,  ..., -0.0695, -0.0004, -0.0321],\n",
            "        ...,\n",
            "        [ 0.0281,  0.0570,  0.0092,  ..., -0.0081, -0.0084, -0.0002],\n",
            "        [ 0.0471, -0.0011, -0.0214,  ..., -0.0201, -0.0451, -0.0076],\n",
            "        [-0.0423, -0.0511, -0.0397,  ..., -0.0349,  0.0336, -0.0179]],\n",
            "       requires_grad=True)\n",
            "Parameter containing:\n",
            "tensor([-0.0521,  0.0446,  0.0037,  0.0370, -0.0077,  0.0158, -0.0065, -0.0236,\n",
            "        -0.0367, -0.0480], requires_grad=True)\n",
            "\n",
            "\n",
            "Layer params:\n",
            "Parameter containing:\n",
            "tensor([[-0.0019, -0.0659,  0.0265,  ...,  0.0346, -0.0444, -0.0309],\n",
            "        [-0.0355,  0.0365,  0.0298,  ...,  0.0609, -0.0315,  0.0125],\n",
            "        [-0.0284, -0.0426,  0.0607,  ..., -0.0695, -0.0004, -0.0321],\n",
            "        ...,\n",
            "        [ 0.0281,  0.0570,  0.0092,  ..., -0.0081, -0.0084, -0.0002],\n",
            "        [ 0.0471, -0.0011, -0.0214,  ..., -0.0201, -0.0451, -0.0076],\n",
            "        [-0.0423, -0.0511, -0.0397,  ..., -0.0349,  0.0336, -0.0179]],\n",
            "       requires_grad=True)\n",
            "Parameter containing:\n",
            "tensor([-0.0521,  0.0446,  0.0037,  0.0370, -0.0077,  0.0158, -0.0065, -0.0236,\n",
            "        -0.0367, -0.0480], requires_grad=True)\n"
          ]
        }
      ]
    },
    {
      "cell_type": "code",
      "source": [
        "lin = torch.nn.Linear(3, 2)\n",
        "x = torch.rand(1, 3)\n",
        "print('Input:')\n",
        "print(x)\n",
        "\n",
        "print('\\n\\nWeight and Bias parameters:')\n",
        "for param in lin.parameters():\n",
        "    print(param)\n",
        "\n",
        "y = lin(x)\n",
        "print('\\n\\n Output:')\n",
        "print(y)"
      ],
      "metadata": {
        "colab": {
          "base_uri": "https://localhost:8080/"
        },
        "id": "up7H6ZOayrxG",
        "outputId": "02c16c8c-d3e5-4ba9-9201-0bd67d9eb153"
      },
      "execution_count": 2,
      "outputs": [
        {
          "output_type": "stream",
          "name": "stdout",
          "text": [
            "Input:\n",
            "tensor([[0.1684, 0.5848, 0.4501]])\n",
            "\n",
            "\n",
            "Weight and Bias parameters:\n",
            "Parameter containing:\n",
            "tensor([[ 0.0320, -0.2892, -0.1916],\n",
            "        [-0.1605, -0.5610,  0.1956]], requires_grad=True)\n",
            "Parameter containing:\n",
            "tensor([-0.2484, -0.1781], requires_grad=True)\n",
            "\n",
            "\n",
            " Output:\n",
            "tensor([[-0.4983, -0.4451]], grad_fn=<AddmmBackward0>)\n"
          ]
        }
      ]
    },
    {
      "cell_type": "code",
      "source": [
        "import torch.functional as F\n",
        "\n",
        "class LeNet(torch.nn.Module):\n",
        "    def __init__(self):\n",
        "        super(LeNet, self).__init__()\n",
        "\n",
        "        self.conv1 = torch.nn.Conv2d(1, 6, 5)\n",
        "        self.conv2 = torch.nn.Conv2d(6, 16, 3)\n",
        "\n",
        "        self.fc1 = torch.nn.Linear(16* 6* 6 , 120)\n",
        "        self.fc2 = torch.nn.Linear(120, 84)\n",
        "        self.fc3 = torch.nn.Linear(84, 10)\n",
        "    def forward(self, x):\n",
        "        x = F.max_pool2d(F.relu(self.conv1(x)), (2, 2))\n",
        "        x = F.max_pool2d(F.relu(self.conv2(x)), 2)\n",
        "        x = x.view(-1, self.num_flat_features(x))\n",
        "        x = F.relu(self.fc1(x))\n",
        "        x = F.relu(self.fc2(x))\n",
        "        x = self.fc3(x)\n",
        "        return x\n",
        "    def num_flat_features(self, x):\n",
        "        size = x.size()[1:]\n",
        "        num_features = 1\n",
        "        for s in size:\n",
        "            num_features *= s\n",
        "        return num_features"
      ],
      "metadata": {
        "id": "YcP1FCcD45Cf"
      },
      "execution_count": 3,
      "outputs": []
    },
    {
      "cell_type": "code",
      "source": [
        "class LSTMTagger(torch.nn.Module):\n",
        "    def __init__(self, embedding_dim, hidden_dim, vocab_size, tagset_size):\n",
        "        super(LSTMTagger, self).__init__()\n",
        "        self.hidden_dim = hidden_dim\n",
        "        self.word_embeddings = torch.nn.Embedding(vocab_size, embedding_dim)\n",
        "        self.lstm = torch.nn.LSTM(embedding_dim, hidden_dim)\n",
        "        self.hidden2tag = torch.nn.Linear(hidden_dim, tagset_size)\n",
        "    def forward(self, sentence):\n",
        "        embeds = self.word_embeddings(sentence)\n",
        "        lstm_out, _ = self.lstm(embeds.view(len(sentence), 1, -1))\n",
        "        tag_space = self.hidden2tag(lstm_out.view(len(sentence), -1))\n",
        "        tag_scores = F.log_softmax(tag_space, dim=1)\n",
        "        return tag_scores"
      ],
      "metadata": {
        "id": "V4A-oAGL45GA"
      },
      "execution_count": 4,
      "outputs": []
    },
    {
      "cell_type": "code",
      "source": [
        "my_tensor = torch.rand(1, 6, 6)\n",
        "print(my_tensor)\n",
        "\n",
        "maxpool_layer = torch.nn.MaxPool2d(3)\n",
        "print(maxpool_layer(my_tensor))"
      ],
      "metadata": {
        "colab": {
          "base_uri": "https://localhost:8080/"
        },
        "id": "ngRrf3iLV8m0",
        "outputId": "2b696808-5934-4993-b49d-414cf4cbf0c9"
      },
      "execution_count": 6,
      "outputs": [
        {
          "output_type": "stream",
          "name": "stdout",
          "text": [
            "tensor([[[0.6414, 0.3338, 0.4516, 0.2821, 0.0566, 0.2937],\n",
            "         [0.3063, 0.1187, 0.3687, 0.9547, 0.5831, 0.4924],\n",
            "         [0.1094, 0.6331, 0.2956, 0.0129, 0.9637, 0.3472],\n",
            "         [0.1065, 0.0875, 0.3278, 0.7253, 0.6574, 0.1303],\n",
            "         [0.5328, 0.8269, 0.0289, 0.5605, 0.8296, 0.0252],\n",
            "         [0.4445, 0.8777, 0.4970, 0.1080, 0.6325, 0.7004]]])\n",
            "tensor([[[0.6414, 0.9637],\n",
            "         [0.8777, 0.8296]]])\n"
          ]
        }
      ]
    },
    {
      "cell_type": "code",
      "source": [
        "my_tensor = torch.rand(1, 4, 4) * 20 + 5\n",
        "print(my_tensor)\n",
        "\n",
        "print(my_tensor.mean())\n",
        "\n",
        "norm_layer = torch.nn.BatchNorm1d(4)\n",
        "normed_tensor = norm_layer(my_tensor)\n",
        "print(normed_tensor)\n",
        "\n",
        "print(normed_tensor.mean())"
      ],
      "metadata": {
        "colab": {
          "base_uri": "https://localhost:8080/"
        },
        "id": "eB4Wr96AV8p7",
        "outputId": "1755f9ab-45e4-4554-90c4-40b94ca49e45"
      },
      "execution_count": 7,
      "outputs": [
        {
          "output_type": "stream",
          "name": "stdout",
          "text": [
            "tensor([[[10.0346,  9.5914, 12.0334, 10.8625],\n",
            "         [18.3711, 23.7965, 10.2899,  8.5109],\n",
            "         [15.2025, 23.9936,  9.6637, 18.3529],\n",
            "         [23.6622, 17.1001, 19.1651, 14.5885]]])\n",
            "tensor(15.3262)\n",
            "tensor([[[-0.6410, -1.1177,  1.5091,  0.2496],\n",
            "         [ 0.5063,  1.3841, -0.8012, -1.0891],\n",
            "         [-0.3086,  1.3861, -1.3763,  0.2987],\n",
            "         [ 1.5127, -0.4595,  0.1611, -1.2143]]],\n",
            "       grad_fn=<NativeBatchNormBackward0>)\n",
            "tensor(4.4703e-08, grad_fn=<MeanBackward0>)\n"
          ]
        }
      ]
    },
    {
      "cell_type": "code",
      "source": [
        "my_tensor = torch.rand(1, 4, 4)\n",
        "print(my_tensor)\n",
        "\n",
        "dropout = torch.nn.Dropout(p = 0.4)\n",
        "print(dropout(my_tensor))\n",
        "print(dropout(my_tensor))"
      ],
      "metadata": {
        "colab": {
          "base_uri": "https://localhost:8080/"
        },
        "id": "BYrSFGplV8s6",
        "outputId": "636e3e5e-d649-4879-9829-e03ddbdb33eb"
      },
      "execution_count": 8,
      "outputs": [
        {
          "output_type": "stream",
          "name": "stdout",
          "text": [
            "tensor([[[0.3353, 0.3233, 0.7732, 0.8716],\n",
            "         [0.1925, 0.1434, 0.6427, 0.3657],\n",
            "         [0.1662, 0.9275, 0.3714, 0.1314],\n",
            "         [0.6677, 0.3969, 0.1874, 0.0916]]])\n",
            "tensor([[[0.0000, 0.5389, 1.2887, 0.0000],\n",
            "         [0.3208, 0.0000, 1.0711, 0.6096],\n",
            "         [0.0000, 1.5458, 0.6190, 0.2190],\n",
            "         [0.0000, 0.0000, 0.3124, 0.1526]]])\n",
            "tensor([[[0.5589, 0.0000, 1.2887, 1.4526],\n",
            "         [0.0000, 0.2389, 1.0711, 0.6096],\n",
            "         [0.2770, 1.5458, 0.0000, 0.2190],\n",
            "         [1.1128, 0.6615, 0.3124, 0.1526]]])\n"
          ]
        }
      ]
    }
  ]
}
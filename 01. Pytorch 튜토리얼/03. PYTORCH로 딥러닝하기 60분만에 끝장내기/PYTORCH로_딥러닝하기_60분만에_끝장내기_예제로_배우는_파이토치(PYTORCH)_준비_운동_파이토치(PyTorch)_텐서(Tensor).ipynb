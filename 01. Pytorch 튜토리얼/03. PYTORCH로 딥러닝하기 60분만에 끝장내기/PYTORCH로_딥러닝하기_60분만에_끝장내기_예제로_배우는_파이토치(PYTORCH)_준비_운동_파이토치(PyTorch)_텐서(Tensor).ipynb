{
  "nbformat": 4,
  "nbformat_minor": 0,
  "metadata": {
    "colab": {
      "name": "PYTORCH로 딥러닝하기 60분만에 끝장내기_예제로 배우는 파이토치(PYTORCH)_준비 운동: 파이토치(PyTorch): 텐서(Tensor).ipynb",
      "provenance": [],
      "collapsed_sections": []
    },
    "kernelspec": {
      "name": "python3",
      "display_name": "Python 3"
    },
    "language_info": {
      "name": "python"
    }
  },
  "cells": [
    {
      "cell_type": "markdown",
      "source": [
        "PYTORCH로 딥러닝하기 60분만에 끝장내기"
      ],
      "metadata": {
        "id": "5sA6XdY2yD_0"
      }
    },
    {
      "cell_type": "markdown",
      "source": [
        "PyTorch 텐서는 기본적으로 NumPy 배열과 동일하게 딥러닝이나 변화도(gradient), 연산 그래프(computational graph)는 알지 못하며, 일반적인 n-차원 배열로 임의의 수치 연산에 사용됩니다.\n",
        "\n",
        "NumPy 배열과 PyTorch 텐서의 가장 큰 차이점은 PyTorch 텐서는 CPU 및 GPU에서 실행될 수 있다는 것입니다. GPU에서 연산을 실행하기 위해서는 텐서를 cuda 데이터형(datatype)으로 변환(cast)해주기만 하면 됩니다."
      ],
      "metadata": {
        "id": "kPZ8agYqmij8"
      }
    },
    {
      "cell_type": "code",
      "source": [
        "import torch\n",
        "import math\n",
        "\n",
        "dtype = torch.float\n",
        "device = torch.device(\"cpu\")\n",
        "\n",
        "x = torch.linspace(-math.pi, math.pi, 2000, device=device, dtype=dtype)\n",
        "y = torch.sin(x)\n",
        "\n",
        "a = torch.randn((), device=device, dtype=dtype)\n",
        "b = torch.randn((), device=device, dtype=dtype)\n",
        "c = torch.randn((), device=device, dtype=dtype)\n",
        "d = torch.randn((), device=device, dtype=dtype)\n",
        "\n",
        "learning_rate = 1e-6\n",
        "for t in range(2000):\n",
        "    y_pred = a + b * x + c * x ** 2 + d * x ** 3\n",
        "\n",
        "    loss = (y_pred - y).pow(2).sum().item()\n",
        "    if t % 100 == 99:\n",
        "        print(t, loss)\n",
        "\n",
        "    grad_y_pred = 2.0 * (y_pred - y)\n",
        "    grad_a = grad_y_pred.sum()\n",
        "    grad_b = (grad_y_pred * x).sum()\n",
        "    grad_c = (grad_y_pred * x ** 2).sum()\n",
        "    grad_d = (grad_y_pred * x ** 3).sum()\n",
        "\n",
        "    a -= learning_rate * grad_a\n",
        "    b -= learning_rate * grad_b\n",
        "    c -= learning_rate * grad_c\n",
        "    d -= learning_rate * grad_d\n",
        "\n",
        "\n",
        "print(f'Result: y = {a.item()} + {b.item()} x + {c.item()} x^2 + {d.item()} x^3')"
      ],
      "metadata": {
        "colab": {
          "base_uri": "https://localhost:8080/"
        },
        "id": "_nbnwEfaiHr2",
        "outputId": "2b3a9b9f-2c4d-4bcb-abaf-3a3c225c90ce"
      },
      "execution_count": 9,
      "outputs": [
        {
          "output_type": "stream",
          "name": "stdout",
          "text": [
            "99 883.8016967773438\n",
            "199 618.3290405273438\n",
            "299 433.7438659667969\n",
            "399 305.28802490234375\n",
            "499 215.8189697265625\n",
            "599 153.4533233642578\n",
            "699 109.94649505615234\n",
            "799 79.57308959960938\n",
            "899 58.35306930541992\n",
            "999 43.51783752441406\n",
            "1099 33.139400482177734\n",
            "1199 25.874305725097656\n",
            "1299 20.785499572753906\n",
            "1399 17.218994140625\n",
            "1499 14.718050956726074\n",
            "1599 12.963393211364746\n",
            "1699 11.73171329498291\n",
            "1799 10.866714477539062\n",
            "1899 10.258993148803711\n",
            "1999 9.831830024719238\n",
            "Result: y = -0.032351020723581314 + 0.8480168581008911 x + 0.005581090226769447 x^2 + -0.09208947420120239 x^3\n"
          ]
        }
      ]
    },
    {
      "cell_type": "code",
      "source": [
        ""
      ],
      "metadata": {
        "id": "Fq8lJOs8muQk"
      },
      "execution_count": null,
      "outputs": []
    }
  ]
}
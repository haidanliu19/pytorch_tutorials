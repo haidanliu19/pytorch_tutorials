{
  "nbformat": 4,
  "nbformat_minor": 0,
  "metadata": {
    "colab": {
      "name": "PYTORCH로 딥러닝하기 60분만에 끝장내기_예제로 배우는 파이토치(PYTORCH)_PYTORCH: OPTIM.ipynb",
      "provenance": [],
      "collapsed_sections": []
    },
    "kernelspec": {
      "name": "python3",
      "display_name": "Python 3"
    },
    "language_info": {
      "name": "python"
    }
  },
  "cells": [
    {
      "cell_type": "markdown",
      "source": [
        "PYTORCH로 딥러닝하기 60분만에 끝장내기"
      ],
      "metadata": {
        "id": "5sA6XdY2yD_0"
      }
    },
    {
      "cell_type": "markdown",
      "source": [
        "y=sin(x) 을 예측할 수 있도록, -\\pi−π 부터 pipi 까지 유클리드 거리(Euclidean distance)를 최소화하도록 3차 다항식을 학습합니다.\n",
        "\n",
        "이번에는 PyTorch의 nn 패키지를 사용하여 신경망을 구성해보겠습니다.\n",
        "\n",
        "지금까지 해왔던 것처럼 직접 모델의 가중치를 갱신하는 대신, optim 패키지를 사용하여 가중치를 갱신할 옵티마이저(Optimizer)를 정의합니다. optim 패키지는 일반적으로 딥러닝에 사용하는 SGD+momentum, RMSProp, Adam 등과 같은 다양한 최적화(optimization) 알고리즘을 정의합니다."
      ],
      "metadata": {
        "id": "kPZ8agYqmij8"
      }
    },
    {
      "cell_type": "code",
      "source": [
        "import torch\n",
        "import math\n",
        "\n",
        "x = torch.linspace(-math.pi, math.pi, 2000)\n",
        "y = torch.sin(x)\n",
        "\n",
        "p = torch.tensor([1, 2, 3])\n",
        "xx = x.unsqueeze(-1).pow(p)\n",
        "\n",
        "model = torch.nn.Sequential(\n",
        "    torch.nn.Linear(3, 1),\n",
        "    torch.nn.Flatten(0, 1)\n",
        ")\n",
        "loss_fn = torch.nn.MSELoss(reduction='sum')\n",
        "\n",
        "learning_rate = 1e-3\n",
        "optimizer = torch.optim.RMSprop(model.parameters(), lr=learning_rate)\n",
        "for t in range(2000):\n",
        "    y_pred = model(xx)\n",
        "\n",
        "    loss = loss_fn(y_pred, y)\n",
        "    if t % 100 == 99:\n",
        "        print(t, loss.item())\n",
        "\n",
        "    model.zero_grad()\n",
        "    loss.backward()\n",
        "    optimizer.step()\n",
        "\n",
        "\n",
        "linear_layer = model[0]\n",
        "print(f'Result: y = {linear_layer.bias.item()} + {linear_layer.weight[:, 0].item()} x + {linear_layer.weight[:, 1].item()} x^2 + {linear_layer.weight[:, 2].item()} x^3')"
      ],
      "metadata": {
        "colab": {
          "base_uri": "https://localhost:8080/"
        },
        "id": "_nbnwEfaiHr2",
        "outputId": "247a24f9-aa35-4e7d-ae40-27fd9717aa36"
      },
      "execution_count": 28,
      "outputs": [
        {
          "output_type": "stream",
          "name": "stdout",
          "text": [
            "99 144.59579467773438\n",
            "199 72.40592956542969\n",
            "299 36.04456329345703\n",
            "399 17.47752571105957\n",
            "499 10.538652420043945\n",
            "599 8.980792045593262\n",
            "699 8.826733589172363\n",
            "799 8.839757919311523\n",
            "899 8.896383285522461\n",
            "999 8.950952529907227\n",
            "1099 8.907282829284668\n",
            "1199 8.893879890441895\n",
            "1299 8.935715675354004\n",
            "1399 8.912496566772461\n",
            "1499 8.914138793945312\n",
            "1599 8.916193008422852\n",
            "1699 8.914064407348633\n",
            "1799 8.91646671295166\n",
            "1899 8.922418594360352\n",
            "1999 8.92264461517334\n",
            "Result: y = 0.0005335096502676606 + 0.8562414646148682 x + 0.000533504004124552 x^2 + -0.09382975101470947 x^3\n"
          ]
        }
      ]
    },
    {
      "cell_type": "code",
      "source": [
        ""
      ],
      "metadata": {
        "id": "Fq8lJOs8muQk"
      },
      "execution_count": null,
      "outputs": []
    }
  ]
}
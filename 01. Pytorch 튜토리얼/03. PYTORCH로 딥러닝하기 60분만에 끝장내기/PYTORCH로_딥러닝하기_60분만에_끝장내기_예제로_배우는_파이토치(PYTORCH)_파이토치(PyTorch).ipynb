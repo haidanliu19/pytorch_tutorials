{
  "nbformat": 4,
  "nbformat_minor": 0,
  "metadata": {
    "colab": {
      "name": "PYTORCH로 딥러닝하기 60분만에 끝장내기_예제로 배우는 파이토치(PYTORCH)_파이토치(PyTorch).ipynb",
      "provenance": [],
      "collapsed_sections": []
    },
    "kernelspec": {
      "name": "python3",
      "display_name": "Python 3"
    },
    "language_info": {
      "name": "python"
    }
  },
  "cells": [
    {
      "cell_type": "markdown",
      "source": [
        "PYTORCH로 딥러닝하기 60분만에 끝장내기"
      ],
      "metadata": {
        "id": "5sA6XdY2yD_0"
      }
    },
    {
      "cell_type": "markdown",
      "source": [
        "이 구현은 PyTorch 텐서 연산을 사용하여 순전파 단계를 계산하고, PyTorch autograd를 사용하여 변화도(gradient)를 계산합니다.\n",
        "\n",
        "PyTorch 텐서는 연산 그래프에서 노드(node)로 표현됩니다. 만약 x 가 x.requires_grad=True 인 텐서라면, x.grad 는 어떤 스칼라 값에 대한 x 의 변화도를 갖는 또다른 텐서입니다."
      ],
      "metadata": {
        "id": "kPZ8agYqmij8"
      }
    },
    {
      "cell_type": "code",
      "source": [
        "import torch\n",
        "import math\n",
        "\n",
        "dtype = torch.float\n",
        "device = torch.device(\"cpu\")\n",
        "\n",
        "x = torch.linspace(-math.pi, math.pi, 2000, device=device, dtype=dtype)\n",
        "y = torch.sin(x)\n",
        "\n",
        "a = torch.randn((), device=device, dtype=dtype, requires_grad=True)\n",
        "b = torch.randn((), device=device, dtype=dtype, requires_grad=True)\n",
        "c = torch.randn((), device=device, dtype=dtype, requires_grad=True)\n",
        "d = torch.randn((), device=device, dtype=dtype, requires_grad=True)\n",
        "\n",
        "learning_rate = 1e-6\n",
        "for t in range(2000):\n",
        "    y_pred = a + b * x + c * x ** 2 + d * x ** 3\n",
        "\n",
        "    loss = (y_pred - y).pow(2).sum()\n",
        "    if t % 100 == 99:\n",
        "        print(t, loss.item())\n",
        "\n",
        "    loss.backward()\n",
        "\n",
        "    with torch.no_grad():\n",
        "        a -= learning_rate * a.grad\n",
        "        b -= learning_rate * b.grad\n",
        "        c -= learning_rate * c.grad\n",
        "        d -= learning_rate * d.grad\n",
        "\n",
        "        a.grad = None\n",
        "        b.grad = None\n",
        "        c.grad = None\n",
        "        d.grad = None\n",
        "\n",
        "print(f'Result: y = {a.item()} + {b.item()} x + {c.item()} x^2 + {d.item()} x^3')"
      ],
      "metadata": {
        "colab": {
          "base_uri": "https://localhost:8080/"
        },
        "id": "_nbnwEfaiHr2",
        "outputId": "d7f23905-c39c-43b3-ac5d-8f9a9d64da00"
      },
      "execution_count": 12,
      "outputs": [
        {
          "output_type": "stream",
          "name": "stdout",
          "text": [
            "99 636.1234741210938\n",
            "199 427.40960693359375\n",
            "299 288.29180908203125\n",
            "399 195.51651000976562\n",
            "499 133.61422729492188\n",
            "599 92.28910827636719\n",
            "699 64.68511962890625\n",
            "799 46.23551940917969\n",
            "899 33.89669418334961\n",
            "999 25.63917350769043\n",
            "1099 20.10926628112793\n",
            "1199 16.403352737426758\n",
            "1299 13.917936325073242\n",
            "1399 12.249767303466797\n",
            "1499 11.129250526428223\n",
            "1599 10.375960350036621\n",
            "1699 9.869098663330078\n",
            "1799 9.52773666381836\n",
            "1899 9.297635078430176\n",
            "1999 9.14238166809082\n",
            "Result: y = 0.011320872232317924 + 0.8426263332366943 x + -0.0019530386198312044 x^2 + -0.09132272750139236 x^3\n"
          ]
        }
      ]
    },
    {
      "cell_type": "code",
      "source": [
        ""
      ],
      "metadata": {
        "id": "Fq8lJOs8muQk"
      },
      "execution_count": null,
      "outputs": []
    }
  ]
}
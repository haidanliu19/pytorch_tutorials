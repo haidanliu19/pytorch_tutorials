{
  "nbformat": 4,
  "nbformat_minor": 0,
  "metadata": {
    "colab": {
      "name": "신경망 모델 구성하기.ipynb",
      "provenance": [],
      "collapsed_sections": []
    },
    "kernelspec": {
      "name": "python3",
      "display_name": "Python 3"
    },
    "language_info": {
      "name": "python"
    }
  },
  "cells": [
    {
      "cell_type": "markdown",
      "source": [
        "출처 : pytorch 튜트리얼"
      ],
      "metadata": {
        "id": "Kcrm0WtMOD2t"
      }
    },
    {
      "cell_type": "code",
      "source": [
        "import os\n",
        "import torch\n",
        "from torch import nn\n",
        "from torch.utils.data import DataLoader\n",
        "from torchvision import datasets, transforms"
      ],
      "metadata": {
        "id": "3LoPLzcJNe4-"
      },
      "execution_count": 1,
      "outputs": []
    },
    {
      "cell_type": "code",
      "source": [
        "device = \"cuda\" if torch.cuda.is_available() else \"cpu\"\n",
        "print(f\"Using {device} device\")"
      ],
      "metadata": {
        "colab": {
          "base_uri": "https://localhost:8080/"
        },
        "id": "EmtzLEe8NpZK",
        "outputId": "9a08ed90-af73-4182-81ae-b8607f2e8d17"
      },
      "execution_count": 2,
      "outputs": [
        {
          "output_type": "stream",
          "name": "stdout",
          "text": [
            "Using cpu device\n"
          ]
        }
      ]
    },
    {
      "cell_type": "markdown",
      "source": [
        "클래스 정의하기"
      ],
      "metadata": {
        "id": "Ke57pnsNN02u"
      }
    },
    {
      "cell_type": "code",
      "source": [
        "class NeuralNetwork(nn.Module):\n",
        "    def __init__(self):\n",
        "        super(NeuralNetwork, self).__init__()\n",
        "        self.flatten = nn.Flatten()\n",
        "        self.linear_relu_stack = nn.Sequential(\n",
        "            nn.Linear(28 * 28, 512),\n",
        "            nn.ReLU(),\n",
        "            nn.Linear(512, 512),\n",
        "            nn.ReLU(),\n",
        "            nn.Linear(512, 10)\n",
        "        )\n",
        "    def forward(self, x):\n",
        "        x = self.flatten(x)\n",
        "        logits = self.linear_relu_stack(x)\n",
        "        return logits"
      ],
      "metadata": {
        "id": "QaV4GuFnNzls"
      },
      "execution_count": 5,
      "outputs": []
    },
    {
      "cell_type": "code",
      "source": [
        "model = NeuralNetwork().to(device)\n",
        "model"
      ],
      "metadata": {
        "colab": {
          "base_uri": "https://localhost:8080/"
        },
        "id": "fKUKaYh6OXw8",
        "outputId": "ce96a060-92d0-4461-a615-5cdaf31b2bc8"
      },
      "execution_count": 6,
      "outputs": [
        {
          "output_type": "execute_result",
          "data": {
            "text/plain": [
              "NeuralNetwork(\n",
              "  (flatten): Flatten(start_dim=1, end_dim=-1)\n",
              "  (linear_relu_stack): Sequential(\n",
              "    (0): Linear(in_features=784, out_features=512, bias=True)\n",
              "    (1): ReLU()\n",
              "    (2): Linear(in_features=512, out_features=512, bias=True)\n",
              "    (3): ReLU()\n",
              "    (4): Linear(in_features=512, out_features=10, bias=True)\n",
              "  )\n",
              ")"
            ]
          },
          "metadata": {},
          "execution_count": 6
        }
      ]
    },
    {
      "cell_type": "code",
      "source": [
        "X = torch.rand(1, 28, 28, device = device)\n",
        "logits = model(X)\n",
        "pred_probab = nn.Softmax(dim = 1)(logits)\n",
        "y_pred = pred_probab.argmax(1)\n",
        "print(f\"Predicted class: {y_pred}\")"
      ],
      "metadata": {
        "colab": {
          "base_uri": "https://localhost:8080/"
        },
        "id": "0sn0l_rKOk60",
        "outputId": "a532133c-f378-48da-cb03-382e126e6a3e"
      },
      "execution_count": 7,
      "outputs": [
        {
          "output_type": "stream",
          "name": "stdout",
          "text": [
            "Predicted class: tensor([1])\n"
          ]
        }
      ]
    },
    {
      "cell_type": "code",
      "source": [
        "input_image = torch.rand(3, 28, 28)\n",
        "print(input_image.size())"
      ],
      "metadata": {
        "colab": {
          "base_uri": "https://localhost:8080/"
        },
        "id": "HEpoGwk_O9AU",
        "outputId": "1579e9e1-adf5-4759-98ff-6d7abe6adf02"
      },
      "execution_count": 8,
      "outputs": [
        {
          "output_type": "stream",
          "name": "stdout",
          "text": [
            "torch.Size([3, 28, 28])\n"
          ]
        }
      ]
    },
    {
      "cell_type": "markdown",
      "source": [
        "nn.Flatten"
      ],
      "metadata": {
        "id": "xA6oNlZPPclM"
      }
    },
    {
      "cell_type": "code",
      "source": [
        "flatten = nn.Flatten()\n",
        "flat_image = flatten(input_image)\n",
        "print(flat_image.size())"
      ],
      "metadata": {
        "colab": {
          "base_uri": "https://localhost:8080/"
        },
        "id": "3O-IEY4tPERz",
        "outputId": "85501242-b97c-4011-c353-5fd6b316d9d7"
      },
      "execution_count": 9,
      "outputs": [
        {
          "output_type": "stream",
          "name": "stdout",
          "text": [
            "torch.Size([3, 784])\n"
          ]
        }
      ]
    },
    {
      "cell_type": "markdown",
      "source": [
        "nn.Linear"
      ],
      "metadata": {
        "id": "2Fvkj0InPinR"
      }
    },
    {
      "cell_type": "code",
      "source": [
        "layer1 = nn.Linear(in_features = 28 * 28, out_features = 20)\n",
        "hidden1 = layer1(flat_image)\n",
        "print(hidden1.size())"
      ],
      "metadata": {
        "colab": {
          "base_uri": "https://localhost:8080/"
        },
        "id": "zI87lELcPMK0",
        "outputId": "5e2931be-3f58-4232-d075-91d5edc4f656"
      },
      "execution_count": 12,
      "outputs": [
        {
          "output_type": "stream",
          "name": "stdout",
          "text": [
            "torch.Size([3, 20])\n"
          ]
        }
      ]
    },
    {
      "cell_type": "code",
      "source": [
        "print(f\"Before ReLu: {hidden1}\\n\\n\")\n",
        "hidden1 = nn.ReLU()(hidden1)\n",
        "print(f\"After ReLU: {hidden1}\")"
      ],
      "metadata": {
        "colab": {
          "base_uri": "https://localhost:8080/"
        },
        "id": "Rv8WKGwCPuAl",
        "outputId": "3d68e89e-d63b-4706-8b44-9adcf57eae75"
      },
      "execution_count": 13,
      "outputs": [
        {
          "output_type": "stream",
          "name": "stdout",
          "text": [
            "Before ReLu: tensor([[ 1.3850e-01,  4.1385e-01,  3.7532e-01,  2.5015e-02,  1.7472e-02,\n",
            "          2.7341e-01, -6.5727e-02, -3.4150e-01, -1.4308e-01,  5.1742e-03,\n",
            "         -7.6002e-02,  1.7711e-01, -7.3494e-02, -9.2301e-02, -4.7040e-02,\n",
            "          2.9296e-04, -5.1888e-02, -2.9792e-01,  2.2713e-01, -5.2321e-01],\n",
            "        [ 2.9004e-01,  4.7983e-02,  3.3683e-01,  3.5208e-01,  3.3282e-01,\n",
            "          7.8826e-02, -7.3520e-02, -2.5224e-02, -2.4008e-01, -1.3271e-01,\n",
            "         -4.6476e-02,  2.6357e-02, -2.4995e-01, -2.3735e-01, -4.0909e-01,\n",
            "          1.5487e-02,  3.0803e-02, -1.1388e-01,  1.8455e-01,  1.2015e-01],\n",
            "        [-4.3973e-02,  1.4521e-01,  1.1806e-01,  2.9968e-01,  5.1179e-01,\n",
            "         -1.9658e-01,  1.6612e-01, -8.8775e-02,  1.0742e-01,  1.9982e-01,\n",
            "          2.9417e-01, -1.7915e-02,  2.8436e-01, -9.8198e-03, -1.2273e-01,\n",
            "          3.9963e-02, -4.6874e-03, -3.8313e-01,  3.9151e-01, -8.7957e-01]],\n",
            "       grad_fn=<AddmmBackward0>)\n",
            "\n",
            "\n",
            "After ReLU: tensor([[1.3850e-01, 4.1385e-01, 3.7532e-01, 2.5015e-02, 1.7472e-02, 2.7341e-01,\n",
            "         0.0000e+00, 0.0000e+00, 0.0000e+00, 5.1742e-03, 0.0000e+00, 1.7711e-01,\n",
            "         0.0000e+00, 0.0000e+00, 0.0000e+00, 2.9296e-04, 0.0000e+00, 0.0000e+00,\n",
            "         2.2713e-01, 0.0000e+00],\n",
            "        [2.9004e-01, 4.7983e-02, 3.3683e-01, 3.5208e-01, 3.3282e-01, 7.8826e-02,\n",
            "         0.0000e+00, 0.0000e+00, 0.0000e+00, 0.0000e+00, 0.0000e+00, 2.6357e-02,\n",
            "         0.0000e+00, 0.0000e+00, 0.0000e+00, 1.5487e-02, 3.0803e-02, 0.0000e+00,\n",
            "         1.8455e-01, 1.2015e-01],\n",
            "        [0.0000e+00, 1.4521e-01, 1.1806e-01, 2.9968e-01, 5.1179e-01, 0.0000e+00,\n",
            "         1.6612e-01, 0.0000e+00, 1.0742e-01, 1.9982e-01, 2.9417e-01, 0.0000e+00,\n",
            "         2.8436e-01, 0.0000e+00, 0.0000e+00, 3.9963e-02, 0.0000e+00, 0.0000e+00,\n",
            "         3.9151e-01, 0.0000e+00]], grad_fn=<ReluBackward0>)\n"
          ]
        }
      ]
    },
    {
      "cell_type": "markdown",
      "source": [
        "nn.Sequential"
      ],
      "metadata": {
        "id": "FzoU4T_YR8Uq"
      }
    },
    {
      "cell_type": "code",
      "source": [
        "seq_modules = nn.Sequential(\n",
        "    flatten, \n",
        "    layer1, \n",
        "    nn.ReLU(),\n",
        "    nn.Linear(20, 10)\n",
        ")\n",
        "input_image = torch.rand(3, 28, 28)\n",
        "logits = seq_modules(input_image)"
      ],
      "metadata": {
        "id": "QjuzM_KEQhYu"
      },
      "execution_count": 14,
      "outputs": []
    },
    {
      "cell_type": "markdown",
      "source": [
        "nn.Softmax"
      ],
      "metadata": {
        "id": "DG2lm60CSakR"
      }
    },
    {
      "cell_type": "code",
      "source": [
        "softmax = nn.Softmax(dim = 1)\n",
        "pred_probab = softmax(logits)"
      ],
      "metadata": {
        "id": "htdHM37eSZw0"
      },
      "execution_count": 15,
      "outputs": []
    },
    {
      "cell_type": "code",
      "source": [
        "print(f\"Model structre : {model}\\n\\n\")\n",
        "\n",
        "for name, param in model.named_parameters():\n",
        "    print(f\"Layer: {name} | Size: {param.size()} | Values : {param[:2]} \\n\")"
      ],
      "metadata": {
        "colab": {
          "base_uri": "https://localhost:8080/"
        },
        "id": "JEqt-K6bSkEc",
        "outputId": "d18b064c-d707-4254-d062-19141be6b85f"
      },
      "execution_count": 16,
      "outputs": [
        {
          "output_type": "stream",
          "name": "stdout",
          "text": [
            "Model structre : NeuralNetwork(\n",
            "  (flatten): Flatten(start_dim=1, end_dim=-1)\n",
            "  (linear_relu_stack): Sequential(\n",
            "    (0): Linear(in_features=784, out_features=512, bias=True)\n",
            "    (1): ReLU()\n",
            "    (2): Linear(in_features=512, out_features=512, bias=True)\n",
            "    (3): ReLU()\n",
            "    (4): Linear(in_features=512, out_features=10, bias=True)\n",
            "  )\n",
            ")\n",
            "\n",
            "\n",
            "Layer: linear_relu_stack.0.weight | Size: torch.Size([512, 784]) | Values : tensor([[-0.0141, -0.0250, -0.0098,  ...,  0.0276,  0.0110,  0.0291],\n",
            "        [-0.0263,  0.0241, -0.0105,  ..., -0.0063, -0.0151,  0.0110]],\n",
            "       grad_fn=<SliceBackward0>) \n",
            "\n",
            "Layer: linear_relu_stack.0.bias | Size: torch.Size([512]) | Values : tensor([-0.0137, -0.0002], grad_fn=<SliceBackward0>) \n",
            "\n",
            "Layer: linear_relu_stack.2.weight | Size: torch.Size([512, 512]) | Values : tensor([[ 0.0195,  0.0058, -0.0142,  ..., -0.0012,  0.0073, -0.0241],\n",
            "        [-0.0118, -0.0339, -0.0076,  ...,  0.0246, -0.0328,  0.0076]],\n",
            "       grad_fn=<SliceBackward0>) \n",
            "\n",
            "Layer: linear_relu_stack.2.bias | Size: torch.Size([512]) | Values : tensor([-0.0198,  0.0374], grad_fn=<SliceBackward0>) \n",
            "\n",
            "Layer: linear_relu_stack.4.weight | Size: torch.Size([10, 512]) | Values : tensor([[ 0.0407,  0.0308, -0.0050,  ..., -0.0441,  0.0119, -0.0353],\n",
            "        [-0.0315, -0.0236,  0.0369,  ..., -0.0019,  0.0374, -0.0174]],\n",
            "       grad_fn=<SliceBackward0>) \n",
            "\n",
            "Layer: linear_relu_stack.4.bias | Size: torch.Size([10]) | Values : tensor([-0.0103,  0.0328], grad_fn=<SliceBackward0>) \n",
            "\n"
          ]
        }
      ]
    }
  ]
}
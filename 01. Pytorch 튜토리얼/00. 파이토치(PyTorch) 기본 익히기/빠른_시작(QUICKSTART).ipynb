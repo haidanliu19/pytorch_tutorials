{
  "nbformat": 4,
  "nbformat_minor": 0,
  "metadata": {
    "colab": {
      "name": "빠른 시작(QUICKSTART).ipynb",
      "provenance": [],
      "collapsed_sections": []
    },
    "kernelspec": {
      "name": "python3",
      "display_name": "Python 3"
    },
    "language_info": {
      "name": "python"
    }
  },
  "cells": [
    {
      "cell_type": "markdown",
      "source": [
        "출처 : pytorch 튜트리얼"
      ],
      "metadata": {
        "id": "Kcrm0WtMOD2t"
      }
    },
    {
      "cell_type": "markdown",
      "source": [
        "데이터 작업하기 "
      ],
      "metadata": {
        "id": "6BTR8sn2pFCW"
      }
    },
    {
      "cell_type": "code",
      "source": [
        "import torch\n",
        "from torch import nn\n",
        "from torch.utils.data import DataLoader\n",
        "from torchvision import datasets\n",
        "from torchvision.transforms import ToTensor, Lambda, Compose\n",
        "import matplotlib.pyplot as plt"
      ],
      "metadata": {
        "id": "TOtR5bqspDdE"
      },
      "execution_count": 1,
      "outputs": []
    },
    {
      "cell_type": "code",
      "source": [
        "training_data = datasets.FashionMNIST(\n",
        "    root = \"data\",\n",
        "    train = True,\n",
        "    download = True,\n",
        "    transform = ToTensor()\n",
        ")\n",
        "\n",
        "test_data = datasets.FashionMNIST(\n",
        "    root = \"data\",\n",
        "    train = False,\n",
        "    download = True,\n",
        "    transform = ToTensor()\n",
        ")"
      ],
      "metadata": {
        "id": "VK77qPdNpDha"
      },
      "execution_count": 3,
      "outputs": []
    },
    {
      "cell_type": "code",
      "source": [
        "batch_size = 64\n",
        "\n",
        "# 데이터로더를 생성합니다. \n",
        "train_dataloader = DataLoader(training_data, batch_size = batch_size)\n",
        "test_dataloader = DataLoader(test_data, batch_size = batch_size)\n",
        "\n",
        "for X, y in test_dataloader:\n",
        "    print(\"Shape of X [N, C, H, W]: \", X.shape)\n",
        "    print(\"Shape of y: \", y.shape, y.dtype)\n",
        "    break"
      ],
      "metadata": {
        "colab": {
          "base_uri": "https://localhost:8080/"
        },
        "id": "pow4ywYapDlE",
        "outputId": "9d5d469a-4d90-4c69-c303-b1b11a575ef3"
      },
      "execution_count": 4,
      "outputs": [
        {
          "output_type": "stream",
          "name": "stdout",
          "text": [
            "Shape of X [N, C, H, W]:  torch.Size([64, 1, 28, 28])\n",
            "Shape of y:  torch.Size([64]) torch.int64\n"
          ]
        }
      ]
    },
    {
      "cell_type": "markdown",
      "source": [
        "모델 만들기"
      ],
      "metadata": {
        "id": "TakJZS8Prpgd"
      }
    },
    {
      "cell_type": "code",
      "source": [
        "device = \"cuda\" if torch.cuda.is_available() else \"cpu\"\n",
        "print(f\"Using {device} device\")\n",
        "\n",
        "# 모델을 정의\n",
        "class NeuralNetwork(nn.Module):\n",
        "    def __init__(self):\n",
        "        super(NeuralNetwork, self).__init__()\n",
        "        self.flatten = nn.Flatten()\n",
        "        self.linear_relu_stack = nn.Sequential(\n",
        "            nn.Linear(28 * 28, 512),\n",
        "            nn.ReLU(),\n",
        "            nn.Linear(512, 512),\n",
        "            nn.Linear(512, 10)\n",
        "        )\n",
        "    def forward(self, x):\n",
        "        x = self.flatten(x)\n",
        "        logits = self.linear_relu_stack(x)\n",
        "        return logits \n",
        "\n",
        "model = NeuralNetwork().to(device)\n",
        "print(model)"
      ],
      "metadata": {
        "colab": {
          "base_uri": "https://localhost:8080/"
        },
        "id": "oiGNZPespDoA",
        "outputId": "30045547-b529-4ffc-add8-afcb8da10005"
      },
      "execution_count": 14,
      "outputs": [
        {
          "output_type": "stream",
          "name": "stdout",
          "text": [
            "Using cpu device\n",
            "NeuralNetwork(\n",
            "  (flatten): Flatten(start_dim=1, end_dim=-1)\n",
            "  (linear_relu_stack): Sequential(\n",
            "    (0): Linear(in_features=784, out_features=512, bias=True)\n",
            "    (1): ReLU()\n",
            "    (2): Linear(in_features=512, out_features=512, bias=True)\n",
            "    (3): Linear(in_features=512, out_features=10, bias=True)\n",
            "  )\n",
            ")\n"
          ]
        }
      ]
    },
    {
      "cell_type": "markdown",
      "source": [
        "모델 매개변수 최적화하기"
      ],
      "metadata": {
        "id": "Lvbb309uwDkS"
      }
    },
    {
      "cell_type": "code",
      "source": [
        "loss_fn = nn.CrossEntropyLoss()\n",
        "optimizer = torch.optim.SGD(model.parameters(), lr = 1e-3)"
      ],
      "metadata": {
        "id": "PLKRcTrRwGzI"
      },
      "execution_count": 15,
      "outputs": []
    },
    {
      "cell_type": "code",
      "source": [
        "def train(dataloader, model, loss_fn, optimizer):\n",
        "    size = len(dataloader.dataset)\n",
        "    for batch, (X, y) in enumerate(dataloader):\n",
        "        X, y = X.to(device), y.to(device)\n",
        "\n",
        "        # 예측 오류 계산\n",
        "        pred = model(X)\n",
        "        loss = loss_fn(pred, y)\n",
        "\n",
        "        # 역전파 \n",
        "        optimizer.zero_grad()\n",
        "        loss.backward()\n",
        "        optimizer.step()\n",
        "        \n",
        "        if batch % 100 == 0:\n",
        "            loss, current = loss.item(), batch * len(X)\n",
        "            print(f\"loss: {loss:>7f} [{current:>5d}/{size:>5d}]\")"
      ],
      "metadata": {
        "id": "WrhyBRQVwPXy"
      },
      "execution_count": 16,
      "outputs": []
    },
    {
      "cell_type": "code",
      "source": [
        "def test(dataloader, model, loss_fn):\n",
        "    size = len(dataloader.dataset)\n",
        "    num_batches = len(dataloader)\n",
        "    model.eval()\n",
        "    test_loss, correct = 0, 0\n",
        "    with torch.no_grad():\n",
        "        for X, y in dataloader:\n",
        "            X, y = X.to(device), y.to(device)\n",
        "            pred = model(X)\n",
        "            test_loss += loss_fn(pred, y).item()\n",
        "            correct += (pred.argmax(1) == y).type(torch.float).sum().item()\n",
        "    test_loss /= num_batches\n",
        "    correct /= size\n",
        "    print(f\"Test Error: \\n Accuracy: {(100 * correct):0.1f}%, Avg loss: {test_loss:>8f} \\n\")"
      ],
      "metadata": {
        "id": "uX-w12yrzmTQ"
      },
      "execution_count": 17,
      "outputs": []
    },
    {
      "cell_type": "code",
      "source": [
        "epochs = 5\n",
        "for t in range(epochs):\n",
        "    print(f\"Epoch {t + 1}\\n----------------------------------------\")\n",
        "    train(train_dataloader, model, loss_fn, optimizer)\n",
        "    test(test_dataloader, model, loss_fn)\n",
        "print(\"Done!\")"
      ],
      "metadata": {
        "colab": {
          "base_uri": "https://localhost:8080/"
        },
        "id": "yyUwd6W72C_D",
        "outputId": "d0efffce-91ab-4e39-83d3-0bf74bd157e6"
      },
      "execution_count": 20,
      "outputs": [
        {
          "output_type": "stream",
          "name": "stdout",
          "text": [
            "Epoch 1\n",
            "----------------------------------------\n",
            "loss: 2.035171 [    0/60000]\n",
            "loss: 2.007035 [ 6400/60000]\n",
            "loss: 1.892833 [12800/60000]\n",
            "loss: 1.914779 [19200/60000]\n",
            "loss: 1.812767 [25600/60000]\n",
            "loss: 1.744091 [32000/60000]\n",
            "loss: 1.769285 [38400/60000]\n",
            "loss: 1.646812 [44800/60000]\n",
            "loss: 1.662894 [51200/60000]\n",
            "loss: 1.556513 [57600/60000]\n",
            "Test Error: \n",
            " Accuracy: 61.1%, Avg loss: 1.559691 \n",
            "\n",
            "Epoch 2\n",
            "----------------------------------------\n",
            "loss: 1.627640 [    0/60000]\n",
            "loss: 1.586381 [ 6400/60000]\n",
            "loss: 1.421823 [12800/60000]\n",
            "loss: 1.489537 [19200/60000]\n",
            "loss: 1.356373 [25600/60000]\n",
            "loss: 1.343582 [32000/60000]\n",
            "loss: 1.362033 [38400/60000]\n",
            "loss: 1.270330 [44800/60000]\n",
            "loss: 1.308103 [51200/60000]\n",
            "loss: 1.209095 [57600/60000]\n",
            "Test Error: \n",
            " Accuracy: 64.0%, Avg loss: 1.230672 \n",
            "\n",
            "Epoch 3\n",
            "----------------------------------------\n",
            "loss: 1.306836 [    0/60000]\n",
            "loss: 1.289169 [ 6400/60000]\n",
            "loss: 1.116125 [12800/60000]\n",
            "loss: 1.227372 [19200/60000]\n",
            "loss: 1.092646 [25600/60000]\n",
            "loss: 1.114229 [32000/60000]\n",
            "loss: 1.139928 [38400/60000]\n",
            "loss: 1.070460 [44800/60000]\n",
            "loss: 1.115556 [51200/60000]\n",
            "loss: 1.036489 [57600/60000]\n",
            "Test Error: \n",
            " Accuracy: 65.2%, Avg loss: 1.052670 \n",
            "\n",
            "Epoch 4\n",
            "----------------------------------------\n",
            "loss: 1.117613 [    0/60000]\n",
            "loss: 1.123900 [ 6400/60000]\n",
            "loss: 0.936746 [12800/60000]\n",
            "loss: 1.082528 [19200/60000]\n",
            "loss: 0.950003 [25600/60000]\n",
            "loss: 0.976819 [32000/60000]\n",
            "loss: 1.016981 [38400/60000]\n",
            "loss: 0.956290 [44800/60000]\n",
            "loss: 1.001561 [51200/60000]\n",
            "loss: 0.938944 [57600/60000]\n",
            "Test Error: \n",
            " Accuracy: 66.5%, Avg loss: 0.947003 \n",
            "\n",
            "Epoch 5\n",
            "----------------------------------------\n",
            "loss: 0.995665 [    0/60000]\n",
            "loss: 1.024003 [ 6400/60000]\n",
            "loss: 0.821230 [12800/60000]\n",
            "loss: 0.992818 [19200/60000]\n",
            "loss: 0.866330 [25600/60000]\n",
            "loss: 0.885282 [32000/60000]\n",
            "loss: 0.939808 [38400/60000]\n",
            "loss: 0.885649 [44800/60000]\n",
            "loss: 0.926245 [51200/60000]\n",
            "loss: 0.875744 [57600/60000]\n",
            "Test Error: \n",
            " Accuracy: 68.2%, Avg loss: 0.877325 \n",
            "\n",
            "Done!\n"
          ]
        }
      ]
    },
    {
      "cell_type": "markdown",
      "source": [
        "모델 저장하기"
      ],
      "metadata": {
        "id": "oTEa5pRx3KXs"
      }
    },
    {
      "cell_type": "code",
      "source": [
        "torch.save(model.state_dict(), \"model.pth\")\n",
        "print(\"Saved PyTorch Model State to model.pth\")"
      ],
      "metadata": {
        "colab": {
          "base_uri": "https://localhost:8080/"
        },
        "id": "AFIwR3_F2vmq",
        "outputId": "cbdf1590-21ef-4d4c-f794-f228ef50dee3"
      },
      "execution_count": 21,
      "outputs": [
        {
          "output_type": "stream",
          "name": "stdout",
          "text": [
            "Saved PyTorch Model State to model.pth\n"
          ]
        }
      ]
    },
    {
      "cell_type": "markdown",
      "source": [
        "모델 불러오기"
      ],
      "metadata": {
        "id": "lS_-8GyS3UXC"
      }
    },
    {
      "cell_type": "code",
      "source": [
        "model = NeuralNetwork()\n",
        "model.load_state_dict(torch.load(\"model.pth\"))"
      ],
      "metadata": {
        "colab": {
          "base_uri": "https://localhost:8080/"
        },
        "id": "7tXVkzgp3Xx1",
        "outputId": "fc031522-45e7-4f09-f7a8-770fb47f32a8"
      },
      "execution_count": 22,
      "outputs": [
        {
          "output_type": "execute_result",
          "data": {
            "text/plain": [
              "<All keys matched successfully>"
            ]
          },
          "metadata": {},
          "execution_count": 22
        }
      ]
    },
    {
      "cell_type": "code",
      "source": [
        "classes = [\n",
        "    \"T-shirt/top\",\n",
        "    \"Trouser\",\n",
        "    \"Pullover\",\n",
        "    \"Dress\",\n",
        "    \"Coat\",\n",
        "    \"Sandal\",\n",
        "    \"Shirt\",\n",
        "    \"Sneaker\",\n",
        "    \"Bag\",\n",
        "    \"Ankle boot\",\n",
        "]\n",
        "\n",
        "\n",
        "model.eval()\n",
        "x, y = test_data[0][0], test_data[0][1]\n",
        "with torch.no_grad():\n",
        "    pred  = model(x)\n",
        "    predicted, actual = classes[pred[0].argmax(0)], classes[y]\n",
        "    print(f'Predicted: \"{predicted}\", Actual: \"{actual}\"')"
      ],
      "metadata": {
        "colab": {
          "base_uri": "https://localhost:8080/"
        },
        "id": "b52kzpZa3f2S",
        "outputId": "4f0ea516-2b6d-43b3-d208-af5f8c2848fe"
      },
      "execution_count": 25,
      "outputs": [
        {
          "output_type": "stream",
          "name": "stdout",
          "text": [
            "Predicted: \"Ankle boot\", Actual: \"Ankle boot\"\n"
          ]
        }
      ]
    }
  ]
}
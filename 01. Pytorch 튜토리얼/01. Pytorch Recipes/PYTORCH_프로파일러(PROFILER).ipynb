{
  "nbformat": 4,
  "nbformat_minor": 0,
  "metadata": {
    "colab": {
      "name": "PYTORCH 프로파일러(PROFILER).ipynb",
      "provenance": [],
      "collapsed_sections": []
    },
    "kernelspec": {
      "name": "python3",
      "display_name": "Python 3"
    },
    "language_info": {
      "name": "python"
    },
    "accelerator": "GPU"
  },
  "cells": [
    {
      "cell_type": "markdown",
      "source": [
        "출처 : pytorch 튜트리얼"
      ],
      "metadata": {
        "id": "Kcrm0WtMOD2t"
      }
    },
    {
      "cell_type": "code",
      "source": [
        "import torch\n",
        "import torchvision.models as models\n",
        "from torch.profiler import profile, record_function, ProfilerActivity"
      ],
      "metadata": {
        "id": "idguJzaYLUg1"
      },
      "execution_count": 1,
      "outputs": []
    },
    {
      "cell_type": "code",
      "source": [
        "model = models.resnet18()\n",
        "inputs = torch.randn(5, 3, 224, 224)"
      ],
      "metadata": {
        "id": "RgfYREsHLfwW"
      },
      "execution_count": 2,
      "outputs": []
    },
    {
      "cell_type": "code",
      "source": [
        "with profile(activities = [ProfilerActivity.CPU], record_shapes = True) as prof:\n",
        "    with record_function(\"model_inference\"):\n",
        "        model(inputs)"
      ],
      "metadata": {
        "id": "op1KHRX4MGfl"
      },
      "execution_count": 4,
      "outputs": []
    },
    {
      "cell_type": "code",
      "source": [
        "print(prof.key_averages().table(sort_by=\"cpu_time_total\", row_limit = 10))"
      ],
      "metadata": {
        "colab": {
          "base_uri": "https://localhost:8080/"
        },
        "id": "ngJhb92ZN8bf",
        "outputId": "b22f393b-1c7f-4670-b583-f0e321cbf72f"
      },
      "execution_count": 5,
      "outputs": [
        {
          "output_type": "stream",
          "name": "stdout",
          "text": [
            "---------------------------------  ------------  ------------  ------------  ------------  ------------  ------------  \n",
            "                             Name    Self CPU %      Self CPU   CPU total %     CPU total  CPU time avg    # of Calls  \n",
            "---------------------------------  ------------  ------------  ------------  ------------  ------------  ------------  \n",
            "                  model_inference         2.09%      14.157ms        99.97%     677.043ms     677.043ms             1  \n",
            "                     aten::conv2d         0.04%     250.000us        75.40%     510.641ms      25.532ms            20  \n",
            "                aten::convolution         0.46%       3.082ms        75.36%     510.391ms      25.520ms            20  \n",
            "               aten::_convolution         0.06%     405.000us        74.90%     507.309ms      25.365ms            20  \n",
            "         aten::mkldnn_convolution        74.77%     506.404ms        74.85%     506.904ms      25.345ms            20  \n",
            "                 aten::batch_norm         0.03%     173.000us        10.28%      69.613ms       3.481ms            20  \n",
            "     aten::_batch_norm_impl_index         0.05%     364.000us        10.25%      69.440ms       3.472ms            20  \n",
            "          aten::native_batch_norm         9.02%      61.110ms        10.19%      69.005ms       3.450ms            20  \n",
            "                 aten::max_pool2d         0.02%     104.000us         8.75%      59.238ms      59.238ms             1  \n",
            "    aten::max_pool2d_with_indices         8.73%      59.134ms         8.73%      59.134ms      59.134ms             1  \n",
            "---------------------------------  ------------  ------------  ------------  ------------  ------------  ------------  \n",
            "Self CPU time total: 677.271ms\n",
            "\n"
          ]
        }
      ]
    },
    {
      "cell_type": "code",
      "source": [
        "print(prof.key_averages(group_by_input_shape = True).table(sort_by = \"cpu_time_total\", row_limit = 10))"
      ],
      "metadata": {
        "colab": {
          "base_uri": "https://localhost:8080/"
        },
        "id": "LLkVY6JpO36E",
        "outputId": "5c5b6d4e-da9f-46e2-9f8f-386244489ad6"
      },
      "execution_count": 8,
      "outputs": [
        {
          "output_type": "stream",
          "name": "stdout",
          "text": [
            "---------------------------------  ------------  ------------  ------------  ------------  ------------  ------------  --------------------------------------------------------------------------------  \n",
            "                             Name    Self CPU %      Self CPU   CPU total %     CPU total  CPU time avg    # of Calls                                                                      Input Shapes  \n",
            "---------------------------------  ------------  ------------  ------------  ------------  ------------  ------------  --------------------------------------------------------------------------------  \n",
            "                  model_inference         2.09%      14.157ms        99.97%     677.043ms     677.043ms             1                                                                                []  \n",
            "                     aten::conv2d         0.01%      86.000us        16.90%     114.459ms      28.615ms             4                             [[5, 64, 56, 56], [64, 64, 3, 3], [], [], [], [], []]  \n",
            "                aten::convolution         0.02%     143.000us        16.89%     114.373ms      28.593ms             4                     [[5, 64, 56, 56], [64, 64, 3, 3], [], [], [], [], [], [], []]  \n",
            "               aten::_convolution         0.01%      76.000us        16.87%     114.230ms      28.558ms             4     [[5, 64, 56, 56], [64, 64, 3, 3], [], [], [], [], [], [], [], [], [], [], []]  \n",
            "         aten::mkldnn_convolution        16.84%     114.070ms        16.85%     114.154ms      28.538ms             4                             [[5, 64, 56, 56], [64, 64, 3, 3], [], [], [], [], []]  \n",
            "                     aten::conv2d         0.00%      14.000us        15.18%     102.795ms     102.795ms             1                             [[5, 3, 224, 224], [64, 3, 7, 7], [], [], [], [], []]  \n",
            "                aten::convolution         0.36%       2.431ms        15.18%     102.781ms     102.781ms             1                     [[5, 3, 224, 224], [64, 3, 7, 7], [], [], [], [], [], [], []]  \n",
            "               aten::_convolution         0.00%      33.000us        14.82%     100.350ms     100.350ms             1     [[5, 3, 224, 224], [64, 3, 7, 7], [], [], [], [], [], [], [], [], [], [], []]  \n",
            "         aten::mkldnn_convolution        14.79%     100.168ms        14.81%     100.317ms     100.317ms             1                             [[5, 3, 224, 224], [64, 3, 7, 7], [], [], [], [], []]  \n",
            "                     aten::conv2d         0.00%      33.000us        11.87%      80.424ms      26.808ms             3                            [[5, 512, 7, 7], [512, 512, 3, 3], [], [], [], [], []]  \n",
            "---------------------------------  ------------  ------------  ------------  ------------  ------------  ------------  --------------------------------------------------------------------------------  \n",
            "Self CPU time total: 677.271ms\n",
            "\n"
          ]
        }
      ]
    },
    {
      "cell_type": "code",
      "source": [
        "model = models.resnet18().cuda()\n",
        "inputs = torch.randn(5, 3, 224, 224).cuda()\n",
        "with profile(activities=[ProfilerActivity.CPU, ProfilerActivity.CUDA], record_shapes=True) as prof:\n",
        "    with record_function(\"model_inference\"):\n",
        "        model(inputs)\n",
        "\n",
        "\n",
        "print(prof.key_averages().table(sort_by=\"cuda_time_total\", row_limit=10))"
      ],
      "metadata": {
        "colab": {
          "base_uri": "https://localhost:8080/"
        },
        "id": "1IEUJXnmPBDw",
        "outputId": "5b87e09f-802d-46c2-abf4-ff66642e2f2e"
      },
      "execution_count": 2,
      "outputs": [
        {
          "output_type": "stream",
          "name": "stdout",
          "text": [
            "-------------------------------------------------------  ------------  ------------  ------------  ------------  ------------  ------------  ------------  ------------  ------------  ------------  \n",
            "                                                   Name    Self CPU %      Self CPU   CPU total %     CPU total  CPU time avg     Self CUDA   Self CUDA %    CUDA total  CUDA time avg    # of Calls  \n",
            "-------------------------------------------------------  ------------  ------------  ------------  ------------  ------------  ------------  ------------  ------------  ------------  ------------  \n",
            "                                        model_inference         1.33%       5.932ms        99.96%     447.139ms     447.139ms       0.000us         0.00%      11.719ms      11.719ms             1  \n",
            "                                           aten::conv2d         0.02%      97.000us        79.63%     356.209ms      17.810ms       0.000us         0.00%       9.889ms     494.450us            20  \n",
            "                                      aten::convolution         0.48%       2.164ms        79.61%     356.112ms      17.806ms       0.000us         0.00%       9.889ms     494.450us            20  \n",
            "                                     aten::_convolution         0.05%     225.000us        79.13%     353.948ms      17.697ms       0.000us         0.00%       9.889ms     494.450us            20  \n",
            "                                aten::cudnn_convolution        78.01%     348.929ms        79.08%     353.723ms      17.686ms       9.889ms        84.38%       9.889ms     494.450us            20  \n",
            "           volta_scudnn_128x64_3dconv_fprop_small_nn_v1         0.00%       0.000us         0.00%       0.000us       0.000us       3.685ms        31.44%       3.685ms       1.228ms             3  \n",
            "volta_scudnn_winograd_128x128_ldg1_ldg4_relu_tile148...         0.00%       0.000us         0.00%       0.000us       0.000us       3.625ms        30.93%       3.625ms     362.500us            10  \n",
            "                                       aten::batch_norm         0.02%      92.000us         1.74%       7.801ms     390.050us       0.000us         0.00%       1.024ms      51.200us            20  \n",
            "                           aten::_batch_norm_impl_index         0.06%     281.000us         1.72%       7.709ms     385.450us       0.000us         0.00%       1.024ms      51.200us            20  \n",
            "                                 aten::cudnn_batch_norm         1.18%       5.288ms         1.66%       7.428ms     371.400us       1.024ms         8.74%       1.024ms      51.200us            20  \n",
            "-------------------------------------------------------  ------------  ------------  ------------  ------------  ------------  ------------  ------------  ------------  ------------  ------------  \n",
            "Self CPU time total: 447.313ms\n",
            "Self CUDA time total: 11.719ms\n",
            "\n"
          ]
        }
      ]
    },
    {
      "cell_type": "code",
      "source": [
        "model = models.resnet18()\n",
        "inputs = torch.randn(5, 3, 224, 224)\n",
        "\n",
        "with profile(activities=[ProfilerActivity.CPU],\n",
        "        profile_memory=True, record_shapes=True) as prof:\n",
        "    model(inputs)\n",
        "\n",
        "print(prof.key_averages().table(sort_by=\"self_cpu_memory_usage\", row_limit=10))"
      ],
      "metadata": {
        "colab": {
          "base_uri": "https://localhost:8080/"
        },
        "id": "V7ZNdV7fPjOv",
        "outputId": "fb2b042d-5af6-4746-87d8-9f9446cb908f"
      },
      "execution_count": 3,
      "outputs": [
        {
          "output_type": "stream",
          "name": "stdout",
          "text": [
            "---------------------------------  ------------  ------------  ------------  ------------  ------------  ------------  ------------  ------------  \n",
            "                             Name    Self CPU %      Self CPU   CPU total %     CPU total  CPU time avg       CPU Mem  Self CPU Mem    # of Calls  \n",
            "---------------------------------  ------------  ------------  ------------  ------------  ------------  ------------  ------------  ------------  \n",
            "                      aten::empty         0.19%     961.000us         0.19%     961.000us       6.006us      94.84 Mb      94.84 Mb           160  \n",
            "    aten::max_pool2d_with_indices         9.75%      48.288ms         9.75%      48.288ms      48.288ms      11.48 Mb      11.48 Mb             1  \n",
            "                       aten::mean         0.07%     339.000us         1.07%       5.280ms     251.429us      28.75 Kb      28.75 Kb            21  \n",
            "                      aten::addmm         1.94%       9.598ms         1.94%       9.612ms       9.612ms      19.53 Kb      19.53 Kb             1  \n",
            "              aten::empty_strided         0.03%     135.000us         0.03%     135.000us       6.429us          84 b          84 b            21  \n",
            "                     aten::conv2d         0.03%     125.000us        76.51%     379.095ms      18.955ms      47.37 Mb           0 b            20  \n",
            "                aten::convolution         0.07%     329.000us        76.48%     378.970ms      18.948ms      47.37 Mb           0 b            20  \n",
            "               aten::_convolution         0.05%     262.000us        76.42%     378.641ms      18.932ms      47.37 Mb           0 b            20  \n",
            "         aten::mkldnn_convolution        76.29%     378.023ms        76.37%     378.379ms      18.919ms      47.37 Mb           0 b            20  \n",
            "                aten::as_strided_         0.01%      42.000us         0.01%      42.000us       2.100us           0 b           0 b            20  \n",
            "---------------------------------  ------------  ------------  ------------  ------------  ------------  ------------  ------------  ------------  \n",
            "Self CPU time total: 495.487ms\n",
            "\n"
          ]
        }
      ]
    },
    {
      "cell_type": "code",
      "source": [
        "print(prof.key_averages().table(sort_by=\"cpu_memory_usage\", row_limit=10))"
      ],
      "metadata": {
        "colab": {
          "base_uri": "https://localhost:8080/"
        },
        "id": "R4kFVY29PrPZ",
        "outputId": "e076fc65-9168-4de2-9b28-54084872b2c0"
      },
      "execution_count": 4,
      "outputs": [
        {
          "output_type": "stream",
          "name": "stdout",
          "text": [
            "---------------------------------  ------------  ------------  ------------  ------------  ------------  ------------  ------------  ------------  \n",
            "                             Name    Self CPU %      Self CPU   CPU total %     CPU total  CPU time avg       CPU Mem  Self CPU Mem    # of Calls  \n",
            "---------------------------------  ------------  ------------  ------------  ------------  ------------  ------------  ------------  ------------  \n",
            "                      aten::empty         0.19%     961.000us         0.19%     961.000us       6.006us      94.84 Mb      94.84 Mb           160  \n",
            "                 aten::batch_norm         0.02%     101.000us        10.73%      53.172ms       2.659ms      47.41 Mb           0 b            20  \n",
            "     aten::_batch_norm_impl_index         0.04%     188.000us        10.71%      53.071ms       2.654ms      47.41 Mb           0 b            20  \n",
            "          aten::native_batch_norm         9.46%      46.894ms        10.67%      52.855ms       2.643ms      47.41 Mb     -75.00 Kb            20  \n",
            "                     aten::conv2d         0.03%     125.000us        76.51%     379.095ms      18.955ms      47.37 Mb           0 b            20  \n",
            "                aten::convolution         0.07%     329.000us        76.48%     378.970ms      18.948ms      47.37 Mb           0 b            20  \n",
            "               aten::_convolution         0.05%     262.000us        76.42%     378.641ms      18.932ms      47.37 Mb           0 b            20  \n",
            "         aten::mkldnn_convolution        76.29%     378.023ms        76.37%     378.379ms      18.919ms      47.37 Mb           0 b            20  \n",
            "                 aten::empty_like         0.03%     162.000us         0.06%     289.000us      14.450us      47.37 Mb           0 b            20  \n",
            "                 aten::max_pool2d         0.00%      13.000us         9.75%      48.301ms      48.301ms      11.48 Mb           0 b             1  \n",
            "---------------------------------  ------------  ------------  ------------  ------------  ------------  ------------  ------------  ------------  \n",
            "Self CPU time total: 495.487ms\n",
            "\n"
          ]
        }
      ]
    },
    {
      "cell_type": "code",
      "source": [
        "model = models.resnet18().cuda()\n",
        "inputs = torch.rand(5, 3, 224, 224).cuda()\n",
        "with profile(activities= [ProfilerActivity.CPU, ProfilerActivity.CUDA]) as prof:\n",
        "    model(inputs)\n",
        "\n",
        "prof.export_chrome_trace('trace.json')"
      ],
      "metadata": {
        "id": "0PAvIm5jaXQ3"
      },
      "execution_count": 5,
      "outputs": []
    },
    {
      "cell_type": "code",
      "source": [
        "with profile(\n",
        "    activities=[ProfilerActivity.CPU, ProfilerActivity.CUDA],\n",
        "    with_stack = True) as prof:\n",
        "        model(inputs)\n",
        "\n",
        "print(prof.key_averages(group_by_stack_n=5).table(sort_by=\"self_cuda_time_total\", row_limit=2))"
      ],
      "metadata": {
        "colab": {
          "base_uri": "https://localhost:8080/"
        },
        "id": "71sFzRNVcuWV",
        "outputId": "6b4171b9-9ed6-4418-d4fd-7702a423cee1"
      },
      "execution_count": 6,
      "outputs": [
        {
          "output_type": "stream",
          "name": "stdout",
          "text": [
            "-------------------------------------------------------  ------------  ------------  ------------  ------------  ------------  ------------  ------------  ------------  ------------  ------------  ---------------------------------------------------------  \n",
            "                                                   Name    Self CPU %      Self CPU   CPU total %     CPU total  CPU time avg     Self CUDA   Self CUDA %    CUDA total  CUDA time avg    # of Calls  Source Location                                            \n",
            "-------------------------------------------------------  ------------  ------------  ------------  ------------  ------------  ------------  ------------  ------------  ------------  ------------  ---------------------------------------------------------  \n",
            "                                aten::cudnn_convolution        30.62%       3.949ms        37.52%       4.839ms     241.950us       9.876ms        84.41%       9.876ms     493.800us            20  runpy.py(85): _run_code                                    \n",
            "                                                                                                                                                                                                     ipykernel_launcher.py(16): <module>                        \n",
            "                                                                                                                                                                                                     traitlets/config/application.py(846): launch_instance      \n",
            "                                                                                                                                                                                                     ipykernel/kernelapp.py(499): start                         \n",
            "                                                                                                                                                                                                     tornado/platform/asyncio.py(132): start                    \n",
            "                                                                                                                                                                                                                                                                \n",
            "           volta_scudnn_128x64_3dconv_fprop_small_nn_v1         0.00%       0.000us         0.00%       0.000us       0.000us       3.684ms        31.49%       3.684ms       1.228ms             3                                                             \n",
            "                                                                                                                                                                                                                                                                \n",
            "-------------------------------------------------------  ------------  ------------  ------------  ------------  ------------  ------------  ------------  ------------  ------------  ------------  ---------------------------------------------------------  \n",
            "Self CPU time total: 12.898ms\n",
            "Self CUDA time total: 11.700ms\n",
            "\n"
          ]
        }
      ]
    },
    {
      "cell_type": "code",
      "source": [
        "prof.export_stacks(\"/tmp/profiler_stacks.txt\", \"self_cuda_time_total\")"
      ],
      "metadata": {
        "id": "GSbTOerKdUGq"
      },
      "execution_count": 7,
      "outputs": []
    },
    {
      "cell_type": "code",
      "source": [
        "from torch.profiler import schedule\n",
        "\n",
        "my_schedule = schedule(\n",
        "    skip_first= 10,\n",
        "    wait = 5,\n",
        "    warmup = 1, \n",
        "    active = 3,\n",
        "    repeat = 2\n",
        ")"
      ],
      "metadata": {
        "id": "Fkw8y8Nidb3l"
      },
      "execution_count": 8,
      "outputs": []
    },
    {
      "cell_type": "code",
      "source": [
        "def trace_handler(p):\n",
        "    output = p.key_averages().table(sort_by = \"self_cuda_time_total\", row_limit = 10)\n",
        "    print(output)\n",
        "    p.export_chrome_trace(\"tmp/trace_\" + str(p.step_num) + \".json\")\n",
        "\n",
        "with profile(\n",
        "    activities=[ProfilerActivity.CPU, ProfilerActivity.CUDA],\n",
        "    schedule = torch.profiler.schedule(\n",
        "        wait = 1, \n",
        "        warmup = 1, \n",
        "        active=2),\n",
        "    on_trace_ready = trace_handler\n",
        ")   as p:\n",
        "    for idx in range(8):\n",
        "        model(inputs)\n",
        "        p.step()"
      ],
      "metadata": {
        "colab": {
          "base_uri": "https://localhost:8080/"
        },
        "id": "KzoQP6jud6Wp",
        "outputId": "df503693-912d-491a-d201-ab38413d4f54"
      },
      "execution_count": 12,
      "outputs": [
        {
          "output_type": "stream",
          "name": "stdout",
          "text": [
            "-------------------------------------------------------  ------------  ------------  ------------  ------------  ------------  ------------  ------------  ------------  ------------  ------------  \n",
            "                                                   Name    Self CPU %      Self CPU   CPU total %     CPU total  CPU time avg     Self CUDA   Self CUDA %    CUDA total  CUDA time avg    # of Calls  \n",
            "-------------------------------------------------------  ------------  ------------  ------------  ------------  ------------  ------------  ------------  ------------  ------------  ------------  \n",
            "                                aten::cudnn_convolution        19.52%       4.921ms        25.44%       6.413ms     160.325us      19.740ms        79.55%      19.740ms     493.500us            40  \n",
            "           volta_scudnn_128x64_3dconv_fprop_small_nn_v1         0.00%       0.000us         0.00%       0.000us       0.000us       8.596ms        34.64%       8.596ms       1.228ms             7  \n",
            "volta_scudnn_winograd_128x128_ldg1_ldg4_relu_tile148...         0.00%       0.000us         0.00%       0.000us       0.000us       7.252ms        29.22%       7.252ms     362.600us            20  \n",
            "                                 aten::cudnn_batch_norm         6.15%       1.551ms        13.19%       3.325ms      83.125us       2.049ms         8.26%       2.049ms      51.225us            40  \n",
            "     volta_scudnn_128x64_3dconv_fprop_xregs_large_nn_v1         0.00%       0.000us         0.00%       0.000us       0.000us       1.980ms         7.98%       1.980ms     495.000us             4  \n",
            "void cudnn::bn_fw_tr_1C11_singleread<float, 512, tru...         0.00%       0.000us         0.00%       0.000us       0.000us       1.191ms         4.80%       1.191ms      37.219us            32  \n",
            "         volta_scudnn_128x128_relu_exp_small_nhwc_tn_v1         0.00%       0.000us         0.00%       0.000us       0.000us       1.059ms         4.27%       1.059ms     529.500us             2  \n",
            "                  volta_scudnn_128x64_relu_medium_nn_v1         0.00%       0.000us         0.00%       0.000us       0.000us       1.049ms         4.23%       1.049ms     524.500us             2  \n",
            "void at::native::vectorized_elementwise_kernel<4, at...         0.00%       0.000us         0.00%       0.000us       0.000us     676.000us         2.72%     676.000us      18.778us            36  \n",
            "                                        aten::clamp_min         1.37%     346.000us         2.74%     691.000us      20.324us     665.000us         2.68%     665.000us      19.559us            34  \n",
            "-------------------------------------------------------  ------------  ------------  ------------  ------------  ------------  ------------  ------------  ------------  ------------  ------------  \n",
            "Self CPU time total: 25.206ms\n",
            "Self CUDA time total: 24.815ms\n",
            "\n",
            "-------------------------------------------------------  ------------  ------------  ------------  ------------  ------------  ------------  ------------  ------------  ------------  ------------  \n",
            "                                                   Name    Self CPU %      Self CPU   CPU total %     CPU total  CPU time avg     Self CUDA   Self CUDA %    CUDA total  CUDA time avg    # of Calls  \n",
            "-------------------------------------------------------  ------------  ------------  ------------  ------------  ------------  ------------  ------------  ------------  ------------  ------------  \n",
            "                                aten::cudnn_convolution        11.89%       3.874ms        15.33%       4.994ms     124.850us      19.746ms        62.21%      19.746ms     493.650us            40  \n",
            "           volta_scudnn_128x64_3dconv_fprop_small_nn_v1         0.00%       0.000us         0.00%       0.000us       0.000us      11.053ms        34.82%      11.053ms       1.228ms             9  \n",
            "volta_scudnn_winograd_128x128_ldg1_ldg4_relu_tile148...         0.00%       0.000us         0.00%       0.000us       0.000us       9.400ms        29.62%       9.400ms     361.538us            26  \n",
            "     volta_scudnn_128x64_3dconv_fprop_xregs_large_nn_v1         0.00%       0.000us         0.00%       0.000us       0.000us       2.670ms         8.41%       2.670ms     534.000us             5  \n",
            "                                 aten::cudnn_batch_norm         3.38%       1.100ms         7.29%       2.375ms      59.375us       2.048ms         6.45%       2.048ms      51.200us            40  \n",
            "void cudnn::bn_fw_tr_1C11_singleread<float, 512, tru...         0.00%       0.000us         0.00%       0.000us       0.000us       1.642ms         5.17%       1.642ms      36.489us            45  \n",
            "         volta_scudnn_128x128_relu_exp_small_nhwc_tn_v1         0.00%       0.000us         0.00%       0.000us       0.000us       1.590ms         5.01%       1.590ms     530.000us             3  \n",
            "                  volta_scudnn_128x64_relu_medium_nn_v1         0.00%       0.000us         0.00%       0.000us       0.000us       1.047ms         3.30%       1.047ms     523.500us             2  \n",
            "void at::native::vectorized_elementwise_kernel<4, at...         0.00%       0.000us         0.00%       0.000us       0.000us     761.000us         2.40%     761.000us      16.543us            46  \n",
            "                                        aten::clamp_min         0.83%     269.000us         1.47%     478.000us      14.059us     668.000us         2.10%     668.000us      19.647us            34  \n",
            "-------------------------------------------------------  ------------  ------------  ------------  ------------  ------------  ------------  ------------  ------------  ------------  ------------  \n",
            "Self CPU time total: 32.581ms\n",
            "Self CUDA time total: 31.740ms\n",
            "\n"
          ]
        }
      ]
    },
    {
      "cell_type": "code",
      "source": [
        "def trace_handler(p):\n",
        "    output = p.key_averages().table(sort_by = \"self_cuda_time_total\", row_limit = 10)\n",
        "    print(output)\n",
        "    #p.export_chrome_trace(\"tmp/trace_\" + str(p.step_num) + \".json\")\n",
        "\n",
        "with profile(\n",
        "    activities=[ProfilerActivity.CPU, ProfilerActivity.CUDA],\n",
        "    schedule = torch.profiler.schedule(\n",
        "        wait = 1, \n",
        "        warmup = 1, \n",
        "        active=2),\n",
        "    on_trace_ready = trace_handler\n",
        ")   as p:\n",
        "    for idx in range(8):\n",
        "        model(inputs)\n",
        "        p.step()"
      ],
      "metadata": {
        "colab": {
          "base_uri": "https://localhost:8080/"
        },
        "id": "1jS9lPAYfogQ",
        "outputId": "7fa52485-27eb-42a8-ed42-491e5b4fb42e"
      },
      "execution_count": 19,
      "outputs": [
        {
          "output_type": "stream",
          "name": "stdout",
          "text": [
            "-------------------------------------------------------  ------------  ------------  ------------  ------------  ------------  ------------  ------------  ------------  ------------  ------------  \n",
            "                                                   Name    Self CPU %      Self CPU   CPU total %     CPU total  CPU time avg     Self CUDA   Self CUDA %    CUDA total  CUDA time avg    # of Calls  \n",
            "-------------------------------------------------------  ------------  ------------  ------------  ------------  ------------  ------------  ------------  ------------  ------------  ------------  \n",
            "                                aten::cudnn_convolution        14.29%       4.070ms        18.42%       5.248ms     131.200us      19.741ms        71.63%      19.741ms     493.525us            40  \n",
            "           volta_scudnn_128x64_3dconv_fprop_small_nn_v1         0.00%       0.000us         0.00%       0.000us       0.000us      11.053ms        40.10%      11.053ms       1.228ms             9  \n",
            "volta_scudnn_winograd_128x128_ldg1_ldg4_relu_tile148...         0.00%       0.000us         0.00%       0.000us       0.000us       7.250ms        26.31%       7.250ms     362.500us            20  \n",
            "                                 aten::cudnn_batch_norm         4.75%       1.352ms         9.45%       2.691ms      67.275us       2.042ms         7.41%       2.042ms      51.050us            40  \n",
            "     volta_scudnn_128x64_3dconv_fprop_xregs_large_nn_v1         0.00%       0.000us         0.00%       0.000us       0.000us       1.980ms         7.18%       1.980ms     495.000us             4  \n",
            "void cudnn::bn_fw_tr_1C11_singleread<float, 512, tru...         0.00%       0.000us         0.00%       0.000us       0.000us       1.326ms         4.81%       1.326ms      37.886us            35  \n",
            "         volta_scudnn_128x128_relu_exp_small_nhwc_tn_v1         0.00%       0.000us         0.00%       0.000us       0.000us       1.059ms         3.84%       1.059ms     529.500us             2  \n",
            "                  volta_scudnn_128x64_relu_medium_nn_v1         0.00%       0.000us         0.00%       0.000us       0.000us       1.048ms         3.80%       1.048ms     524.000us             2  \n",
            "void at::native::vectorized_elementwise_kernel<4, at...         0.00%       0.000us         0.00%       0.000us       0.000us     686.000us         2.49%     686.000us      18.053us            38  \n",
            "                                        aten::clamp_min         1.01%     289.000us         1.84%     525.000us      15.441us     665.000us         2.41%     665.000us      19.559us            34  \n",
            "-------------------------------------------------------  ------------  ------------  ------------  ------------  ------------  ------------  ------------  ------------  ------------  ------------  \n",
            "Self CPU time total: 28.486ms\n",
            "Self CUDA time total: 27.561ms\n",
            "\n",
            "-------------------------------------------------------  ------------  ------------  ------------  ------------  ------------  ------------  ------------  ------------  ------------  ------------  \n",
            "                                                   Name    Self CPU %      Self CPU   CPU total %     CPU total  CPU time avg     Self CUDA   Self CUDA %    CUDA total  CUDA time avg    # of Calls  \n",
            "-------------------------------------------------------  ------------  ------------  ------------  ------------  ------------  ------------  ------------  ------------  ------------  ------------  \n",
            "                                aten::cudnn_convolution        12.61%       3.969ms        16.23%       5.106ms     127.650us      19.741ms        64.18%      19.741ms     493.525us            40  \n",
            "           volta_scudnn_128x64_3dconv_fprop_small_nn_v1         0.00%       0.000us         0.00%       0.000us       0.000us      11.052ms        35.93%      11.052ms       1.228ms             9  \n",
            "volta_scudnn_winograd_128x128_ldg1_ldg4_relu_tile148...         0.00%       0.000us         0.00%       0.000us       0.000us       8.660ms        28.15%       8.660ms     360.833us            24  \n",
            "     volta_scudnn_128x64_3dconv_fprop_xregs_large_nn_v1         0.00%       0.000us         0.00%       0.000us       0.000us       2.665ms         8.66%       2.665ms     533.000us             5  \n",
            "                                 aten::cudnn_batch_norm         3.79%       1.191ms         8.21%       2.583ms      64.575us       2.037ms         6.62%       2.037ms      50.925us            40  \n",
            "         volta_scudnn_128x128_relu_exp_small_nhwc_tn_v1         0.00%       0.000us         0.00%       0.000us       0.000us       1.588ms         5.16%       1.588ms     529.333us             3  \n",
            "void cudnn::bn_fw_tr_1C11_singleread<float, 512, tru...         0.00%       0.000us         0.00%       0.000us       0.000us       1.555ms         5.06%       1.555ms      37.024us            42  \n",
            "                  volta_scudnn_128x64_relu_medium_nn_v1         0.00%       0.000us         0.00%       0.000us       0.000us       1.048ms         3.41%       1.048ms     524.000us             2  \n",
            "void at::native::vectorized_elementwise_kernel<4, at...         0.00%       0.000us         0.00%       0.000us       0.000us     731.000us         2.38%     731.000us      16.614us            44  \n",
            "                                        aten::clamp_min         0.87%     274.000us         1.63%     514.000us      15.118us     660.000us         2.15%     660.000us      19.412us            34  \n",
            "-------------------------------------------------------  ------------  ------------  ------------  ------------  ------------  ------------  ------------  ------------  ------------  ------------  \n",
            "Self CPU time total: 31.465ms\n",
            "Self CUDA time total: 30.759ms\n",
            "\n"
          ]
        }
      ]
    },
    {
      "cell_type": "code",
      "source": [
        "!git clone https://github.com/brendangregg/FlameGraph"
      ],
      "metadata": {
        "colab": {
          "base_uri": "https://localhost:8080/"
        },
        "id": "K0jg0QECfVTX",
        "outputId": "a13a2788-1e7c-4fa4-81a9-70b59d0140aa"
      },
      "execution_count": 15,
      "outputs": [
        {
          "output_type": "stream",
          "name": "stdout",
          "text": [
            "Cloning into 'FlameGraph'...\n",
            "remote: Enumerating objects: 1147, done.\u001b[K\n",
            "remote: Counting objects: 100% (28/28), done.\u001b[K\n",
            "remote: Compressing objects: 100% (15/15), done.\u001b[K\n",
            "remote: Total 1147 (delta 13), reused 26 (delta 13), pack-reused 1119\u001b[K\n",
            "Receiving objects: 100% (1147/1147), 1.90 MiB | 14.77 MiB/s, done.\n",
            "Resolving deltas: 100% (659/659), done.\n"
          ]
        }
      ]
    },
    {
      "cell_type": "code",
      "source": [
        "!cd FlameGraph"
      ],
      "metadata": {
        "colab": {
          "base_uri": "https://localhost:8080/"
        },
        "id": "denKBbOkfBB8",
        "outputId": "dff5896c-d634-4a00-868f-6da380186e32"
      },
      "execution_count": 16,
      "outputs": [
        {
          "output_type": "stream",
          "name": "stdout",
          "text": [
            "/content/FlameGraph\n"
          ]
        }
      ]
    },
    {
      "cell_type": "code",
      "source": [
        "#./flamegraph.pl --title \"CUDA time\" --countname \"us.\" /tmp/profiler_stacks.txt > perf_viz.svg"
      ],
      "metadata": {
        "id": "Wf1pqP_xfZ71"
      },
      "execution_count": 18,
      "outputs": []
    },
    {
      "cell_type": "code",
      "source": [
        ""
      ],
      "metadata": {
        "id": "30r2udi7flnc"
      },
      "execution_count": null,
      "outputs": []
    }
  ]
}
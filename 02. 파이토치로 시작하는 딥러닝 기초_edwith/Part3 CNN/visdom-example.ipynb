{
 "cells": [
  {
   "cell_type": "code",
   "execution_count": 50,
   "metadata": {},
   "outputs": [],
   "source": [
    "#!pip install visdom"
   ]
  },
  {
   "cell_type": "code",
   "execution_count": 63,
   "metadata": {},
   "outputs": [
    {
     "name": "stderr",
     "output_type": "stream",
     "text": [
      "Setting up a new session...\n"
     ]
    }
   ],
   "source": [
    "import visdom\n",
    "vis = visdom.Visdom(port = 6006)"
   ]
  },
  {
   "cell_type": "markdown",
   "metadata": {},
   "source": [
    "# Text"
   ]
  },
  {
   "cell_type": "code",
   "execution_count": 64,
   "metadata": {},
   "outputs": [
    {
     "data": {
      "text/plain": [
       "'window_3ada37f7447312'"
      ]
     },
     "execution_count": 64,
     "metadata": {},
     "output_type": "execute_result"
    },
    {
     "name": "stderr",
     "output_type": "stream",
     "text": [
      "[Errno 101] Network is unreachable\n",
      "on_close() takes 1 positional argument but 3 were given\n",
      "[Errno 101] Network is unreachable\n",
      "on_close() takes 1 positional argument but 3 were given\n",
      "[Errno 101] Network is unreachable\n",
      "on_close() takes 1 positional argument but 3 were given\n",
      "[Errno 101] Network is unreachable\n",
      "on_close() takes 1 positional argument but 3 were given\n"
     ]
    }
   ],
   "source": [
    "vis.text(\"Hello world!\", env = \"main\")\n",
    "# env = \"main\" 있어서 되고 안 쓰도 되는데 한 번에 끄고 싶을 때 편하다. "
   ]
  },
  {
   "cell_type": "markdown",
   "metadata": {},
   "source": [
    "# image"
   ]
  },
  {
   "cell_type": "code",
   "execution_count": 65,
   "metadata": {},
   "outputs": [
    {
     "data": {
      "text/plain": [
       "'window_3ada37f83cf5b0'"
      ]
     },
     "execution_count": 65,
     "metadata": {},
     "output_type": "execute_result"
    },
    {
     "name": "stderr",
     "output_type": "stream",
     "text": [
      "[Errno 101] Network is unreachable\n",
      "on_close() takes 1 positional argument but 3 were given\n",
      "[Errno 101] Network is unreachable\n",
      "on_close() takes 1 positional argument but 3 were given\n",
      "[Errno 101] Network is unreachable\n",
      "on_close() takes 1 positional argument but 3 were given\n",
      "[Errno 101] Network is unreachable\n",
      "on_close() takes 1 positional argument but 3 were given\n",
      "[Errno 101] Network is unreachable\n",
      "on_close() takes 1 positional argument but 3 were given\n",
      "[Errno 101] Network is unreachable\n",
      "on_close() takes 1 positional argument but 3 were given\n",
      "[Errno 101] Network is unreachable\n",
      "on_close() takes 1 positional argument but 3 were given\n",
      "[Errno 101] Network is unreachable\n",
      "on_close() takes 1 positional argument but 3 were given\n",
      "[Errno 101] Network is unreachable\n",
      "on_close() takes 1 positional argument but 3 were given\n",
      "[Errno 101] Network is unreachable\n",
      "on_close() takes 1 positional argument but 3 were given\n",
      "[Errno 101] Network is unreachable\n",
      "on_close() takes 1 positional argument but 3 were given\n",
      "[Errno 101] Network is unreachable\n",
      "on_close() takes 1 positional argument but 3 were given\n"
     ]
    }
   ],
   "source": [
    "a = torch.randn(3, 200, 200)\n",
    "vis.image(a)"
   ]
  },
  {
   "cell_type": "code",
   "execution_count": 68,
   "metadata": {},
   "outputs": [
    {
     "data": {
      "text/plain": [
       "'window_3ada380335cc5c'"
      ]
     },
     "execution_count": 68,
     "metadata": {},
     "output_type": "execute_result"
    },
    {
     "name": "stderr",
     "output_type": "stream",
     "text": [
      "[Errno 101] Network is unreachable\n",
      "on_close() takes 1 positional argument but 3 were given\n",
      "[Errno 101] Network is unreachable\n",
      "on_close() takes 1 positional argument but 3 were given\n",
      "[Errno 101] Network is unreachable\n",
      "on_close() takes 1 positional argument but 3 were given\n",
      "[Errno 101] Network is unreachable\n",
      "on_close() takes 1 positional argument but 3 were given\n",
      "[Errno 101] Network is unreachable\n",
      "on_close() takes 1 positional argument but 3 were given\n",
      "[Errno 101] Network is unreachable\n",
      "on_close() takes 1 positional argument but 3 were given\n",
      "[Errno 101] Network is unreachable\n",
      "on_close() takes 1 positional argument but 3 were given\n",
      "[Errno 101] Network is unreachable\n",
      "on_close() takes 1 positional argument but 3 were given\n",
      "[Errno 101] Network is unreachable\n",
      "on_close() takes 1 positional argument but 3 were given\n",
      "[Errno 101] Network is unreachable\n",
      "on_close() takes 1 positional argument but 3 were given\n",
      "[Errno 101] Network is unreachable\n",
      "on_close() takes 1 positional argument but 3 were given\n",
      "[Errno 101] Network is unreachable\n",
      "on_close() takes 1 positional argument but 3 were given\n",
      "[Errno 101] Network is unreachable\n",
      "on_close() takes 1 positional argument but 3 were given\n",
      "[Errno 101] Network is unreachable\n",
      "on_close() takes 1 positional argument but 3 were given\n",
      "[Errno 101] Network is unreachable\n",
      "on_close() takes 1 positional argument but 3 were given\n",
      "[Errno 101] Network is unreachable\n",
      "on_close() takes 1 positional argument but 3 were given\n"
     ]
    }
   ],
   "source": [
    "vis.images(torch.Tensor(3,3,28,28))"
   ]
  },
  {
   "cell_type": "code",
   "execution_count": 69,
   "metadata": {},
   "outputs": [
    {
     "name": "stderr",
     "output_type": "stream",
     "text": [
      "[Errno 101] Network is unreachable\n",
      "on_close() takes 1 positional argument but 3 were given\n",
      "[Errno 101] Network is unreachable\n",
      "on_close() takes 1 positional argument but 3 were given\n",
      "[Errno 101] Network is unreachable\n",
      "on_close() takes 1 positional argument but 3 were given\n",
      "[Errno 101] Network is unreachable\n",
      "on_close() takes 1 positional argument but 3 were given\n",
      "[Errno 101] Network is unreachable\n",
      "on_close() takes 1 positional argument but 3 were given\n",
      "[Errno 101] Network is unreachable\n",
      "on_close() takes 1 positional argument but 3 were given\n",
      "[Errno 101] Network is unreachable\n",
      "on_close() takes 1 positional argument but 3 were given\n",
      "[Errno 101] Network is unreachable\n",
      "on_close() takes 1 positional argument but 3 were given\n",
      "[Errno 101] Network is unreachable\n",
      "on_close() takes 1 positional argument but 3 were given\n",
      "[Errno 101] Network is unreachable\n",
      "on_close() takes 1 positional argument but 3 were given\n",
      "[Errno 101] Network is unreachable\n",
      "on_close() takes 1 positional argument but 3 were given\n",
      "[Errno 101] Network is unreachable\n",
      "on_close() takes 1 positional argument but 3 were given\n",
      "[Errno 101] Network is unreachable\n",
      "on_close() takes 1 positional argument but 3 were given\n",
      "[Errno 101] Network is unreachable\n",
      "on_close() takes 1 positional argument but 3 were given\n",
      "[Errno 101] Network is unreachable\n",
      "on_close() takes 1 positional argument but 3 were given\n",
      "[Errno 101] Network is unreachable\n",
      "on_close() takes 1 positional argument but 3 were given\n",
      "[Errno 101] Network is unreachable\n",
      "on_close() takes 1 positional argument but 3 were given\n",
      "[Errno 101] Network is unreachable\n",
      "on_close() takes 1 positional argument but 3 were given\n",
      "[Errno 101] Network is unreachable\n",
      "on_close() takes 1 positional argument but 3 were given\n",
      "[Errno 101] Network is unreachable\n",
      "on_close() takes 1 positional argument but 3 were given\n",
      "[Errno 101] Network is unreachable\n",
      "on_close() takes 1 positional argument but 3 were given\n",
      "[Errno 101] Network is unreachable\n",
      "on_close() takes 1 positional argument but 3 were given\n",
      "[Errno 101] Network is unreachable\n",
      "on_close() takes 1 positional argument but 3 were given\n",
      "[Errno 101] Network is unreachable\n",
      "on_close() takes 1 positional argument but 3 were given\n",
      "[Errno 101] Network is unreachable\n",
      "on_close() takes 1 positional argument but 3 were given\n",
      "[Errno 101] Network is unreachable\n",
      "on_close() takes 1 positional argument but 3 were given\n",
      "[Errno 101] Network is unreachable\n",
      "on_close() takes 1 positional argument but 3 were given\n",
      "[Errno 101] Network is unreachable\n",
      "on_close() takes 1 positional argument but 3 were given\n"
     ]
    }
   ],
   "source": [
    "import torch\n",
    "import torch.nn as nn\n",
    "import torchvision.datasets as datasets\n",
    "import torchvision.transforms as transforms\n",
    "\n",
    "import torch.nn.init"
   ]
  },
  {
   "cell_type": "code",
   "execution_count": 72,
   "metadata": {},
   "outputs": [
    {
     "name": "stderr",
     "output_type": "stream",
     "text": [
      "[Errno 101] Network is unreachable\n",
      "on_close() takes 1 positional argument but 3 were given\n",
      "[Errno 101] Network is unreachable\n",
      "on_close() takes 1 positional argument but 3 were given\n",
      "[Errno 101] Network is unreachable\n",
      "on_close() takes 1 positional argument but 3 were given\n",
      "[Errno 101] Network is unreachable\n",
      "on_close() takes 1 positional argument but 3 were given\n"
     ]
    },
    {
     "name": "stdout",
     "output_type": "stream",
     "text": [
      "Files already downloaded and verified\n"
     ]
    },
    {
     "name": "stderr",
     "output_type": "stream",
     "text": [
      "[Errno 101] Network is unreachable\n",
      "on_close() takes 1 positional argument but 3 were given\n",
      "[Errno 101] Network is unreachable\n",
      "on_close() takes 1 positional argument but 3 were given\n",
      "[Errno 101] Network is unreachable\n",
      "on_close() takes 1 positional argument but 3 were given\n",
      "[Errno 101] Network is unreachable\n",
      "on_close() takes 1 positional argument but 3 were given\n"
     ]
    }
   ],
   "source": [
    "MNIST = datasets.MNIST(root = 'data/', \n",
    "                             train = True, \n",
    "                             transform = transforms.ToTensor(), \n",
    "                             download = True)\n",
    "cifar10 = datasets.CIFAR10(root = 'data/', \n",
    "                             train = True, \n",
    "                             transform = transforms.ToTensor(), \n",
    "                             download = True)"
   ]
  },
  {
   "cell_type": "code",
   "execution_count": 74,
   "metadata": {},
   "outputs": [
    {
     "name": "stdout",
     "output_type": "stream",
     "text": [
      "torch.Size([3, 32, 32])\n"
     ]
    },
    {
     "data": {
      "text/plain": [
       "'window_3ada3885ad756c'"
      ]
     },
     "execution_count": 74,
     "metadata": {},
     "output_type": "execute_result"
    }
   ],
   "source": [
    "data = cifar10.__getitem__(0)\n",
    "print(data[0].shape)\n",
    "vis.images(data[0], env = 'main')"
   ]
  },
  {
   "cell_type": "code",
   "execution_count": 76,
   "metadata": {},
   "outputs": [
    {
     "name": "stdout",
     "output_type": "stream",
     "text": [
      "torch.Size([1, 28, 28])\n"
     ]
    },
    {
     "data": {
      "text/plain": [
       "'window_3ada389e481dfc'"
      ]
     },
     "execution_count": 76,
     "metadata": {},
     "output_type": "execute_result"
    },
    {
     "name": "stderr",
     "output_type": "stream",
     "text": [
      "[Errno 101] Network is unreachable\n",
      "on_close() takes 1 positional argument but 3 were given\n",
      "[Errno 101] Network is unreachable\n",
      "on_close() takes 1 positional argument but 3 were given\n",
      "[Errno 101] Network is unreachable\n",
      "on_close() takes 1 positional argument but 3 were given\n",
      "[Errno 101] Network is unreachable\n",
      "on_close() takes 1 positional argument but 3 were given\n"
     ]
    }
   ],
   "source": [
    "data = MNIST.__getitem__(0)\n",
    "print(data[0].shape)\n",
    "vis.images(data[0], env = 'main')"
   ]
  },
  {
   "cell_type": "markdown",
   "metadata": {},
   "source": [
    "# Check dataset"
   ]
  },
  {
   "cell_type": "code",
   "execution_count": 77,
   "metadata": {},
   "outputs": [
    {
     "name": "stderr",
     "output_type": "stream",
     "text": [
      "[Errno 101] Network is unreachable\n",
      "on_close() takes 1 positional argument but 3 were given\n",
      "[Errno 101] Network is unreachable\n",
      "[Errno 101] Network is unreachable\n",
      "on_close() takes 1 positional argument but 3 were given\n",
      "on_close() takes 1 positional argument but 3 were given\n",
      "[Errno 101] Network is unreachable\n",
      "on_close() takes 1 positional argument but 3 were given\n"
     ]
    }
   ],
   "source": [
    "data_loader = torch.utils.data.DataLoader(dataset = MNIST, \n",
    "                                         batch_size = 32,\n",
    "                                         shuffle = False)"
   ]
  },
  {
   "cell_type": "code",
   "execution_count": 78,
   "metadata": {},
   "outputs": [
    {
     "name": "stdout",
     "output_type": "stream",
     "text": [
      "torch.Size([32, 1, 28, 28])\n"
     ]
    },
    {
     "name": "stderr",
     "output_type": "stream",
     "text": [
      "[Errno 101] Network is unreachable\n",
      "on_close() takes 1 positional argument but 3 were given\n",
      "[Errno 101] Network is unreachable\n",
      "on_close() takes 1 positional argument but 3 were given\n",
      "[Errno 101] Network is unreachable\n",
      "[Errno 101] Network is unreachable\n",
      "on_close() takes 1 positional argument but 3 were given\n",
      "on_close() takes 1 positional argument but 3 were given\n"
     ]
    }
   ],
   "source": [
    "for num, value in enumerate(data_loader):\n",
    "    value = value[0]\n",
    "    print(value.shape)\n",
    "    vis.images(value)\n",
    "    break"
   ]
  },
  {
   "cell_type": "code",
   "execution_count": 80,
   "metadata": {},
   "outputs": [
    {
     "data": {
      "text/plain": [
       "''"
      ]
     },
     "execution_count": 80,
     "metadata": {},
     "output_type": "execute_result"
    },
    {
     "name": "stderr",
     "output_type": "stream",
     "text": [
      "[Errno 101] Network is unreachable\n",
      "on_close() takes 1 positional argument but 3 were given\n",
      "[Errno 101] Network is unreachable\n",
      "on_close() takes 1 positional argument but 3 were given\n",
      "[Errno 101] Network is unreachable\n",
      "[Errno 101] Network is unreachable\n",
      "on_close() takes 1 positional argument but 3 were given\n",
      "on_close() takes 1 positional argument but 3 were given\n",
      "[Errno 101] Network is unreachable\n",
      "on_close() takes 1 positional argument but 3 were given\n",
      "[Errno 101] Network is unreachable\n",
      "on_close() takes 1 positional argument but 3 were given\n",
      "[Errno 101] Network is unreachable\n",
      "on_close() takes 1 positional argument but 3 were given\n",
      "[Errno 101] Network is unreachable\n",
      "on_close() takes 1 positional argument but 3 were given\n",
      "[Errno 101] Network is unreachable\n",
      "on_close() takes 1 positional argument but 3 were given\n",
      "[Errno 101] Network is unreachable\n",
      "on_close() takes 1 positional argument but 3 were given\n",
      "[Errno 101] Network is unreachable\n",
      "on_close() takes 1 positional argument but 3 were given\n",
      "[Errno 101] Network is unreachable\n",
      "on_close() takes 1 positional argument but 3 were given\n"
     ]
    }
   ],
   "source": [
    "vis.close(env =\"main\")"
   ]
  },
  {
   "cell_type": "markdown",
   "metadata": {},
   "source": [
    "# Line Plot"
   ]
  },
  {
   "cell_type": "code",
   "execution_count": 79,
   "metadata": {},
   "outputs": [
    {
     "name": "stderr",
     "output_type": "stream",
     "text": [
      "[Errno 101] Network is unreachable\n",
      "on_close() takes 1 positional argument but 3 were given\n",
      "[Errno 101] Network is unreachable\n",
      "on_close() takes 1 positional argument but 3 were given\n",
      "[Errno 101] Network is unreachable\n",
      "on_close() takes 1 positional argument but 3 were given\n",
      "[Errno 101] Network is unreachable\n",
      "on_close() takes 1 positional argument but 3 were given\n"
     ]
    }
   ],
   "source": [
    "Y_data = torch.randn(5)\n",
    "plt= vis.line(Y= Y_data)"
   ]
  },
  {
   "cell_type": "code",
   "execution_count": 82,
   "metadata": {},
   "outputs": [
    {
     "name": "stderr",
     "output_type": "stream",
     "text": [
      "[Errno 101] Network is unreachable\n",
      "on_close() takes 1 positional argument but 3 were given\n",
      "[Errno 101] Network is unreachable\n",
      "on_close() takes 1 positional argument but 3 were given\n",
      "[Errno 101] Network is unreachable\n",
      "on_close() takes 1 positional argument but 3 were given\n",
      "[Errno 101] Network is unreachable\n",
      "on_close() takes 1 positional argument but 3 were given\n",
      "[Errno 101] Network is unreachable\n",
      "on_close() takes 1 positional argument but 3 were given\n",
      "[Errno 101] Network is unreachable\n",
      "on_close() takes 1 positional argument but 3 were given\n",
      "[Errno 101] Network is unreachable\n",
      "on_close() takes 1 positional argument but 3 were given\n",
      "[Errno 101] Network is unreachable\n",
      "on_close() takes 1 positional argument but 3 were given\n",
      "[Errno 101] Network is unreachable\n",
      "on_close() takes 1 positional argument but 3 were given\n",
      "[Errno 101] Network is unreachable\n",
      "[Errno 101] Network is unreachable\n",
      "on_close() takes 1 positional argument but 3 were given\n",
      "on_close() takes 1 positional argument but 3 were given\n",
      "[Errno 101] Network is unreachable\n",
      "on_close() takes 1 positional argument but 3 were given\n"
     ]
    }
   ],
   "source": [
    "Y_data = torch.randn(6)\n",
    "plt= vis.line(Y= Y_data)"
   ]
  },
  {
   "cell_type": "code",
   "execution_count": 87,
   "metadata": {},
   "outputs": [],
   "source": [
    "Y_data = torch.randn(5)\n",
    "X_data = torch.Tensor([1,2,3,4,5])\n",
    "plt= vis.line(Y= Y_data, X = X_data)"
   ]
  },
  {
   "cell_type": "code",
   "execution_count": 88,
   "metadata": {},
   "outputs": [
    {
     "data": {
      "text/plain": [
       "'window_3ada3d653f35bc'"
      ]
     },
     "execution_count": 88,
     "metadata": {},
     "output_type": "execute_result"
    }
   ],
   "source": [
    "Y_append = torch.randn(1)\n",
    "X_append = torch.Tensor([6])\n",
    "\n",
    "vis.line(Y = Y_append, X= X_append, win = plt, update = \"append\")"
   ]
  },
  {
   "cell_type": "code",
   "execution_count": 89,
   "metadata": {},
   "outputs": [
    {
     "name": "stderr",
     "output_type": "stream",
     "text": [
      "[Errno 101] Network is unreachable\n",
      "on_close() takes 1 positional argument but 3 were given\n",
      "[Errno 101] Network is unreachable\n",
      "on_close() takes 1 positional argument but 3 were given\n",
      "[Errno 101] Network is unreachable\n",
      "on_close() takes 1 positional argument but 3 were given\n",
      "[Errno 101] Network is unreachable\n",
      "on_close() takes 1 positional argument but 3 were given\n",
      "[Errno 101] Network is unreachable\n",
      "on_close() takes 1 positional argument but 3 were given\n",
      "[Errno 101] Network is unreachable\n",
      "on_close() takes 1 positional argument but 3 were given\n",
      "[Errno 101] Network is unreachable\n",
      "on_close() takes 1 positional argument but 3 were given\n",
      "[Errno 101] Network is unreachable\n",
      "on_close() takes 1 positional argument but 3 were given\n"
     ]
    }
   ],
   "source": [
    "num = torch.Tensor(list(range(0, 10)))\n",
    "num = num.view(-1, 1)\n",
    "num = torch.cat((num, num), dim = 1)\n",
    "\n",
    "plt = vis.line(Y = torch.randn(10, 2), X = num)"
   ]
  },
  {
   "cell_type": "code",
   "execution_count": 90,
   "metadata": {},
   "outputs": [
    {
     "name": "stdout",
     "output_type": "stream",
     "text": [
      "torch.Size([10])\n",
      "torch.Size([10, 2])\n"
     ]
    },
    {
     "name": "stderr",
     "output_type": "stream",
     "text": [
      "[Errno 101] Network is unreachable\n",
      "on_close() takes 1 positional argument but 3 were given\n",
      "[Errno 101] Network is unreachable\n",
      "on_close() takes 1 positional argument but 3 were given\n",
      "[Errno 101] Network is unreachable\n",
      "on_close() takes 1 positional argument but 3 were given\n",
      "[Errno 101] Network is unreachable\n",
      "on_close() takes 1 positional argument but 3 were given\n"
     ]
    }
   ],
   "source": [
    "num = torch.Tensor(list(range(0, 10)))\n",
    "print(num.shape)\n",
    "num = num.view(-1, 1)\n",
    "num = torch.cat((num, num), dim = 1)\n",
    "print(num.shape)\n",
    "plt = vis.line(Y = torch.randn(10, 2), X = num)"
   ]
  },
  {
   "cell_type": "markdown",
   "metadata": {},
   "source": [
    "# Line info"
   ]
  },
  {
   "cell_type": "code",
   "execution_count": 91,
   "metadata": {},
   "outputs": [
    {
     "name": "stderr",
     "output_type": "stream",
     "text": [
      "[Errno 101] Network is unreachable\n",
      "[Errno 101] Network is unreachable\n",
      "on_close() takes 1 positional argument but 3 were given\n",
      "on_close() takes 1 positional argument but 3 were given\n",
      "[Errno 101] Network is unreachable\n",
      "on_close() takes 1 positional argument but 3 were given\n",
      "[Errno 101] Network is unreachable\n",
      "on_close() takes 1 positional argument but 3 were given\n"
     ]
    }
   ],
   "source": [
    "plt = vis.line(Y = Y_data, X = X_data, opts = dict(title = 'Test', showlegend = True))"
   ]
  },
  {
   "cell_type": "code",
   "execution_count": 92,
   "metadata": {},
   "outputs": [
    {
     "name": "stderr",
     "output_type": "stream",
     "text": [
      "[Errno 101] Network is unreachable\n",
      "on_close() takes 1 positional argument but 3 were given\n",
      "[Errno 101] Network is unreachable\n",
      "on_close() takes 1 positional argument but 3 were given\n",
      "[Errno 101] Network is unreachable\n",
      "on_close() takes 1 positional argument but 3 were given\n",
      "[Errno 101] Network is unreachable\n",
      "on_close() takes 1 positional argument but 3 were given\n"
     ]
    }
   ],
   "source": [
    "plt = vis.line(Y = Y_data, X = X_data, opts = dict(title = 'Test', legend=['1번'], showlegend = True))"
   ]
  },
  {
   "cell_type": "code",
   "execution_count": 94,
   "metadata": {},
   "outputs": [],
   "source": [
    "plt = vis.line(Y = torch.randn(10, 2), X = num, opts = dict(title = 'Test', legend=['1번','2번'], showlegend = True))"
   ]
  },
  {
   "cell_type": "markdown",
   "metadata": {},
   "source": [
    "# make function for update line"
   ]
  },
  {
   "cell_type": "code",
   "execution_count": 103,
   "metadata": {},
   "outputs": [],
   "source": [
    "def loss_tracker(loss_plot, loss_value, num):\n",
    "    vis.line(X = num, \n",
    "             Y = loss_value,\n",
    "             win = loss_plot, update = 'append')"
   ]
  },
  {
   "cell_type": "code",
   "execution_count": 104,
   "metadata": {},
   "outputs": [
    {
     "name": "stderr",
     "output_type": "stream",
     "text": [
      "[Errno 101] Network is unreachable\n",
      "on_close() takes 1 positional argument but 3 were given\n",
      "[Errno 101] Network is unreachable\n",
      "on_close() takes 1 positional argument but 3 were given\n",
      "[Errno 101] Network is unreachable\n",
      "[Errno 101] Network is unreachable\n",
      "on_close() takes 1 positional argument but 3 were given\n",
      "on_close() takes 1 positional argument but 3 were given\n",
      "[Errno 101] Network is unreachable\n",
      "[Errno 101] Network is unreachable\n",
      "on_close() takes 1 positional argument but 3 were given\n",
      "on_close() takes 1 positional argument but 3 were given\n",
      "[Errno 101] Network is unreachable\n",
      "on_close() takes 1 positional argument but 3 were given\n",
      "[Errno 101] Network is unreachable\n",
      "on_close() takes 1 positional argument but 3 were given\n"
     ]
    }
   ],
   "source": [
    "plt = vis.line(Y = torch.Tensor(1).zero_())\n",
    "\n",
    "for i in range(500):\n",
    "    loss = torch.randn(1) + i\n",
    "    loss_tracker(plt, loss, torch.Tensor([1]))"
   ]
  },
  {
   "cell_type": "code",
   "execution_count": 105,
   "metadata": {},
   "outputs": [
    {
     "data": {
      "text/plain": [
       "''"
      ]
     },
     "execution_count": 105,
     "metadata": {},
     "output_type": "execute_result"
    },
    {
     "name": "stderr",
     "output_type": "stream",
     "text": [
      "[Errno 101] Network is unreachable\n",
      "on_close() takes 1 positional argument but 3 were given\n",
      "[Errno 101] Network is unreachable\n",
      "on_close() takes 1 positional argument but 3 were given\n",
      "[Errno 101] Network is unreachable\n",
      "on_close() takes 1 positional argument but 3 were given\n",
      "[Errno 101] Network is unreachable\n",
      "on_close() takes 1 positional argument but 3 were given\n"
     ]
    }
   ],
   "source": [
    "vis.close(env = \"main\")"
   ]
  },
  {
   "cell_type": "code",
   "execution_count": null,
   "metadata": {},
   "outputs": [],
   "source": []
  }
 ],
 "metadata": {
  "kernelspec": {
   "display_name": "Python 3",
   "language": "python",
   "name": "python3"
  },
  "language_info": {
   "codemirror_mode": {
    "name": "ipython",
    "version": 3
   },
   "file_extension": ".py",
   "mimetype": "text/x-python",
   "name": "python",
   "nbconvert_exporter": "python",
   "pygments_lexer": "ipython3",
   "version": "3.6.9"
  }
 },
 "nbformat": 4,
 "nbformat_minor": 4
}
